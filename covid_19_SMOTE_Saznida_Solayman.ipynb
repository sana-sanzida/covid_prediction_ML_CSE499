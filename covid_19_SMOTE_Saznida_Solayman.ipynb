{
 "cells": [
  {
   "cell_type": "code",
   "execution_count": 81,
   "metadata": {},
   "outputs": [],
   "source": [
    "#necessary libraries\n",
    "import pandas as pd\n",
    "import numpy as np"
   ]
  },
  {
   "cell_type": "code",
   "execution_count": 82,
   "metadata": {},
   "outputs": [
    {
     "data": {
      "text/html": [
       "<div>\n",
       "<style scoped>\n",
       "    .dataframe tbody tr th:only-of-type {\n",
       "        vertical-align: middle;\n",
       "    }\n",
       "\n",
       "    .dataframe tbody tr th {\n",
       "        vertical-align: top;\n",
       "    }\n",
       "\n",
       "    .dataframe thead th {\n",
       "        text-align: right;\n",
       "    }\n",
       "</style>\n",
       "<table border=\"1\" class=\"dataframe\">\n",
       "  <thead>\n",
       "    <tr style=\"text-align: right;\">\n",
       "      <th></th>\n",
       "      <th>test_date</th>\n",
       "      <th>cough</th>\n",
       "      <th>fever</th>\n",
       "      <th>sore_throat</th>\n",
       "      <th>shortness_of_breath</th>\n",
       "      <th>head_ache</th>\n",
       "      <th>corona_result</th>\n",
       "      <th>age_60_and_above</th>\n",
       "      <th>gender</th>\n",
       "      <th>test_indication</th>\n",
       "    </tr>\n",
       "  </thead>\n",
       "  <tbody>\n",
       "    <tr>\n",
       "      <th>0</th>\n",
       "      <td>2020-11-12</td>\n",
       "      <td>0</td>\n",
       "      <td>0</td>\n",
       "      <td>0</td>\n",
       "      <td>0</td>\n",
       "      <td>0</td>\n",
       "      <td>negative</td>\n",
       "      <td>No</td>\n",
       "      <td>male</td>\n",
       "      <td>Other</td>\n",
       "    </tr>\n",
       "    <tr>\n",
       "      <th>1</th>\n",
       "      <td>2020-11-12</td>\n",
       "      <td>0</td>\n",
       "      <td>1</td>\n",
       "      <td>0</td>\n",
       "      <td>0</td>\n",
       "      <td>0</td>\n",
       "      <td>negative</td>\n",
       "      <td>No</td>\n",
       "      <td>male</td>\n",
       "      <td>Other</td>\n",
       "    </tr>\n",
       "    <tr>\n",
       "      <th>2</th>\n",
       "      <td>2020-11-12</td>\n",
       "      <td>0</td>\n",
       "      <td>0</td>\n",
       "      <td>0</td>\n",
       "      <td>0</td>\n",
       "      <td>0</td>\n",
       "      <td>negative</td>\n",
       "      <td>Yes</td>\n",
       "      <td>female</td>\n",
       "      <td>Other</td>\n",
       "    </tr>\n",
       "    <tr>\n",
       "      <th>3</th>\n",
       "      <td>2020-11-12</td>\n",
       "      <td>0</td>\n",
       "      <td>0</td>\n",
       "      <td>0</td>\n",
       "      <td>0</td>\n",
       "      <td>0</td>\n",
       "      <td>negative</td>\n",
       "      <td>No</td>\n",
       "      <td>male</td>\n",
       "      <td>Other</td>\n",
       "    </tr>\n",
       "    <tr>\n",
       "      <th>4</th>\n",
       "      <td>2020-11-12</td>\n",
       "      <td>0</td>\n",
       "      <td>1</td>\n",
       "      <td>0</td>\n",
       "      <td>0</td>\n",
       "      <td>0</td>\n",
       "      <td>negative</td>\n",
       "      <td>No</td>\n",
       "      <td>male</td>\n",
       "      <td>Contact with confirmed</td>\n",
       "    </tr>\n",
       "  </tbody>\n",
       "</table>\n",
       "</div>"
      ],
      "text/plain": [
       "    test_date  cough  fever  sore_throat  shortness_of_breath  head_ache  \\\n",
       "0  2020-11-12      0      0            0                    0          0   \n",
       "1  2020-11-12      0      1            0                    0          0   \n",
       "2  2020-11-12      0      0            0                    0          0   \n",
       "3  2020-11-12      0      0            0                    0          0   \n",
       "4  2020-11-12      0      1            0                    0          0   \n",
       "\n",
       "  corona_result age_60_and_above  gender         test_indication  \n",
       "0      negative               No    male                   Other  \n",
       "1      negative               No    male                   Other  \n",
       "2      negative              Yes  female                   Other  \n",
       "3      negative               No    male                   Other  \n",
       "4      negative               No    male  Contact with confirmed  "
      ]
     },
     "execution_count": 82,
     "metadata": {},
     "output_type": "execute_result"
    }
   ],
   "source": [
    "#reading the dataset into a dataframe and showing first 5 rows\n",
    "dataframe = pd.read_csv('corona_tested_individuals_ver_0083.english.csv', low_memory=False)\n",
    "dataframe.head(5)"
   ]
  },
  {
   "cell_type": "code",
   "execution_count": 83,
   "metadata": {},
   "outputs": [
    {
     "data": {
      "text/plain": [
       "(2742596, 10)"
      ]
     },
     "execution_count": 83,
     "metadata": {},
     "output_type": "execute_result"
    }
   ],
   "source": [
    "#shape of the dataset\n",
    "dataframe.shape"
   ]
  },
  {
   "cell_type": "code",
   "execution_count": 84,
   "metadata": {},
   "outputs": [
    {
     "data": {
      "text/plain": [
       "test_date                   0\n",
       "cough                       0\n",
       "fever                       0\n",
       "sore_throat                 0\n",
       "shortness_of_breath         0\n",
       "head_ache                   0\n",
       "corona_result               0\n",
       "age_60_and_above       547644\n",
       "gender                  92886\n",
       "test_indication             0\n",
       "dtype: int64"
      ]
     },
     "execution_count": 84,
     "metadata": {},
     "output_type": "execute_result"
    }
   ],
   "source": [
    "#null values in the dataset\n",
    "dataframe.isnull().sum()"
   ]
  },
  {
   "cell_type": "code",
   "execution_count": 85,
   "metadata": {},
   "outputs": [],
   "source": [
    "#drop the null values\n",
    "dataframe.dropna(inplace=True)"
   ]
  },
  {
   "cell_type": "code",
   "execution_count": 86,
   "metadata": {},
   "outputs": [
    {
     "data": {
      "text/plain": [
       "test_date              0\n",
       "cough                  0\n",
       "fever                  0\n",
       "sore_throat            0\n",
       "shortness_of_breath    0\n",
       "head_ache              0\n",
       "corona_result          0\n",
       "age_60_and_above       0\n",
       "gender                 0\n",
       "test_indication        0\n",
       "dtype: int64"
      ]
     },
     "execution_count": 86,
     "metadata": {},
     "output_type": "execute_result"
    }
   ],
   "source": [
    "#null values in the dataset after dropping null values\n",
    "dataframe.isnull().sum()"
   ]
  },
  {
   "cell_type": "code",
   "execution_count": 87,
   "metadata": {},
   "outputs": [
    {
     "data": {
      "text/plain": [
       "(2186227, 10)"
      ]
     },
     "execution_count": 87,
     "metadata": {},
     "output_type": "execute_result"
    }
   ],
   "source": [
    "#shape of the dataset after dropping null values\n",
    "dataframe.shape"
   ]
  },
  {
   "cell_type": "code",
   "execution_count": 88,
   "metadata": {},
   "outputs": [
    {
     "data": {
      "text/html": [
       "<div>\n",
       "<style scoped>\n",
       "    .dataframe tbody tr th:only-of-type {\n",
       "        vertical-align: middle;\n",
       "    }\n",
       "\n",
       "    .dataframe tbody tr th {\n",
       "        vertical-align: top;\n",
       "    }\n",
       "\n",
       "    .dataframe thead th {\n",
       "        text-align: right;\n",
       "    }\n",
       "</style>\n",
       "<table border=\"1\" class=\"dataframe\">\n",
       "  <thead>\n",
       "    <tr style=\"text-align: right;\">\n",
       "      <th></th>\n",
       "      <th>cough</th>\n",
       "      <th>fever</th>\n",
       "      <th>sore_throat</th>\n",
       "      <th>shortness_of_breath</th>\n",
       "      <th>head_ache</th>\n",
       "      <th>corona_result</th>\n",
       "      <th>gender</th>\n",
       "      <th>test_indication</th>\n",
       "    </tr>\n",
       "  </thead>\n",
       "  <tbody>\n",
       "    <tr>\n",
       "      <th>0</th>\n",
       "      <td>0</td>\n",
       "      <td>0</td>\n",
       "      <td>0</td>\n",
       "      <td>0</td>\n",
       "      <td>0</td>\n",
       "      <td>negative</td>\n",
       "      <td>male</td>\n",
       "      <td>Other</td>\n",
       "    </tr>\n",
       "    <tr>\n",
       "      <th>1</th>\n",
       "      <td>0</td>\n",
       "      <td>1</td>\n",
       "      <td>0</td>\n",
       "      <td>0</td>\n",
       "      <td>0</td>\n",
       "      <td>negative</td>\n",
       "      <td>male</td>\n",
       "      <td>Other</td>\n",
       "    </tr>\n",
       "    <tr>\n",
       "      <th>2</th>\n",
       "      <td>0</td>\n",
       "      <td>0</td>\n",
       "      <td>0</td>\n",
       "      <td>0</td>\n",
       "      <td>0</td>\n",
       "      <td>negative</td>\n",
       "      <td>female</td>\n",
       "      <td>Other</td>\n",
       "    </tr>\n",
       "    <tr>\n",
       "      <th>3</th>\n",
       "      <td>0</td>\n",
       "      <td>0</td>\n",
       "      <td>0</td>\n",
       "      <td>0</td>\n",
       "      <td>0</td>\n",
       "      <td>negative</td>\n",
       "      <td>male</td>\n",
       "      <td>Other</td>\n",
       "    </tr>\n",
       "    <tr>\n",
       "      <th>4</th>\n",
       "      <td>0</td>\n",
       "      <td>1</td>\n",
       "      <td>0</td>\n",
       "      <td>0</td>\n",
       "      <td>0</td>\n",
       "      <td>negative</td>\n",
       "      <td>male</td>\n",
       "      <td>Contact with confirmed</td>\n",
       "    </tr>\n",
       "  </tbody>\n",
       "</table>\n",
       "</div>"
      ],
      "text/plain": [
       "   cough  fever  sore_throat  shortness_of_breath  head_ache corona_result  \\\n",
       "0      0      0            0                    0          0      negative   \n",
       "1      0      1            0                    0          0      negative   \n",
       "2      0      0            0                    0          0      negative   \n",
       "3      0      0            0                    0          0      negative   \n",
       "4      0      1            0                    0          0      negative   \n",
       "\n",
       "   gender         test_indication  \n",
       "0    male                   Other  \n",
       "1    male                   Other  \n",
       "2  female                   Other  \n",
       "3    male                   Other  \n",
       "4    male  Contact with confirmed  "
      ]
     },
     "execution_count": 88,
     "metadata": {},
     "output_type": "execute_result"
    }
   ],
   "source": [
    "#dropping the date and age column\n",
    "dataframe.drop('test_date', inplace=True, axis=1)\n",
    "dataframe.drop('age_60_and_above', inplace=True, axis=1)\n",
    "dataframe.head(5)"
   ]
  },
  {
   "cell_type": "code",
   "execution_count": 89,
   "metadata": {},
   "outputs": [
    {
     "data": {
      "text/plain": [
       "cough                  2\n",
       "fever                  2\n",
       "sore_throat            2\n",
       "shortness_of_breath    2\n",
       "head_ache              2\n",
       "corona_result          3\n",
       "gender                 2\n",
       "test_indication        3\n",
       "dtype: int64"
      ]
     },
     "execution_count": 89,
     "metadata": {},
     "output_type": "execute_result"
    }
   ],
   "source": [
    "#number of unique values in each column\n",
    "dataframe.nunique()"
   ]
  },
  {
   "cell_type": "code",
   "execution_count": 90,
   "metadata": {},
   "outputs": [
    {
     "name": "stdout",
     "output_type": "stream",
     "text": [
      "cough :  [0 1]\n",
      "fever :  [0 1]\n",
      "sore_throat :  [0 1]\n",
      "shortness_of_breath :  [0 1]\n",
      "head_ache :  [0 1]\n",
      "corona_result :  ['negative' 'positive' 'other']\n",
      "gender :  ['male' 'female']\n",
      "test_indication :  ['Other' 'Contact with confirmed' 'Abroad']\n"
     ]
    }
   ],
   "source": [
    "#unique values in each column\n",
    "for col in dataframe:\n",
    "    print(col, ': ', dataframe[col].unique())"
   ]
  },
  {
   "cell_type": "code",
   "execution_count": 91,
   "metadata": {},
   "outputs": [
    {
     "data": {
      "text/plain": [
       "negative    1943172\n",
       "positive     208726\n",
       "Name: corona_result, dtype: int64"
      ]
     },
     "execution_count": 91,
     "metadata": {},
     "output_type": "execute_result"
    }
   ],
   "source": [
    "#dropping the rows with other corona results\n",
    "dataframe = dataframe[dataframe.corona_result != 'other']\n",
    "dataframe['corona_result'].value_counts()"
   ]
  },
  {
   "cell_type": "code",
   "execution_count": 92,
   "metadata": {},
   "outputs": [
    {
     "data": {
      "text/plain": [
       "(2151898, 8)"
      ]
     },
     "execution_count": 92,
     "metadata": {},
     "output_type": "execute_result"
    }
   ],
   "source": [
    "#checking the final shape of the dataset\n",
    "dataframe.shape"
   ]
  },
  {
   "cell_type": "code",
   "execution_count": 93,
   "metadata": {},
   "outputs": [
    {
     "data": {
      "image/png": "[encoded data removed]",
      "text/plain": [
       "<Figure size 1152x576 with 8 Axes>"
      ]
     },
     "metadata": {},
     "output_type": "display_data"
    }
   ],
   "source": [
    "#corona_result in term of cough feature\n",
    "import seaborn as sns\n",
    "import matplotlib.pyplot as plt\n",
    "\n",
    "sns.set_theme(style=\"darkgrid\")\n",
    "sns.set(rc={'figure.figsize':(16,8)})\n",
    "fig, ax = plt.subplots(2,4)\n",
    "sns.countplot(x=\"cough\", hue=\"corona_result\", data=dataframe, ax=ax[0,0])\n",
    "sns.countplot(x=\"fever\", hue=\"corona_result\", data=dataframe, ax=ax[0,1])\n",
    "sns.countplot(x=\"sore_throat\", hue=\"corona_result\", data=dataframe, ax=ax[0,2])\n",
    "sns.countplot(x=\"shortness_of_breath\", hue=\"corona_result\", data=dataframe, ax=ax[0,3])\n",
    "sns.countplot(x=\"head_ache\", hue=\"corona_result\", data=dataframe, ax=ax[1,0])\n",
    "#sns.countplot(x=\"age_60_and_above\", hue=\"corona_result\", data=dataframe, ax=ax[1,1])\n",
    "sns.countplot(x=\"gender\", hue=\"corona_result\", data=dataframe, ax=ax[1,1])\n",
    "sns.countplot(x=\"test_indication\", hue=\"corona_result\", data=dataframe, ax=ax[1,2])\n",
    "plt.tight_layout()"
   ]
  },
  {
   "cell_type": "code",
   "execution_count": 94,
   "metadata": {},
   "outputs": [
    {
     "data": {
      "text/html": [
       "<div>\n",
       "<style scoped>\n",
       "    .dataframe tbody tr th:only-of-type {\n",
       "        vertical-align: middle;\n",
       "    }\n",
       "\n",
       "    .dataframe tbody tr th {\n",
       "        vertical-align: top;\n",
       "    }\n",
       "\n",
       "    .dataframe thead th {\n",
       "        text-align: right;\n",
       "    }\n",
       "</style>\n",
       "<table border=\"1\" class=\"dataframe\">\n",
       "  <thead>\n",
       "    <tr style=\"text-align: right;\">\n",
       "      <th></th>\n",
       "      <th>cough</th>\n",
       "      <th>fever</th>\n",
       "      <th>sore_throat</th>\n",
       "      <th>shortness_of_breath</th>\n",
       "      <th>head_ache</th>\n",
       "      <th>corona_result</th>\n",
       "      <th>gender</th>\n",
       "      <th>test_indication</th>\n",
       "    </tr>\n",
       "  </thead>\n",
       "  <tbody>\n",
       "    <tr>\n",
       "      <th>0</th>\n",
       "      <td>0</td>\n",
       "      <td>0</td>\n",
       "      <td>0</td>\n",
       "      <td>0</td>\n",
       "      <td>0</td>\n",
       "      <td>0</td>\n",
       "      <td>1</td>\n",
       "      <td>0</td>\n",
       "    </tr>\n",
       "    <tr>\n",
       "      <th>1</th>\n",
       "      <td>0</td>\n",
       "      <td>1</td>\n",
       "      <td>0</td>\n",
       "      <td>0</td>\n",
       "      <td>0</td>\n",
       "      <td>0</td>\n",
       "      <td>1</td>\n",
       "      <td>0</td>\n",
       "    </tr>\n",
       "    <tr>\n",
       "      <th>2</th>\n",
       "      <td>0</td>\n",
       "      <td>0</td>\n",
       "      <td>0</td>\n",
       "      <td>0</td>\n",
       "      <td>0</td>\n",
       "      <td>0</td>\n",
       "      <td>0</td>\n",
       "      <td>0</td>\n",
       "    </tr>\n",
       "    <tr>\n",
       "      <th>3</th>\n",
       "      <td>0</td>\n",
       "      <td>0</td>\n",
       "      <td>0</td>\n",
       "      <td>0</td>\n",
       "      <td>0</td>\n",
       "      <td>0</td>\n",
       "      <td>1</td>\n",
       "      <td>0</td>\n",
       "    </tr>\n",
       "    <tr>\n",
       "      <th>4</th>\n",
       "      <td>0</td>\n",
       "      <td>1</td>\n",
       "      <td>0</td>\n",
       "      <td>0</td>\n",
       "      <td>0</td>\n",
       "      <td>0</td>\n",
       "      <td>1</td>\n",
       "      <td>1</td>\n",
       "    </tr>\n",
       "  </tbody>\n",
       "</table>\n",
       "</div>"
      ],
      "text/plain": [
       "   cough  fever  sore_throat  shortness_of_breath  head_ache  corona_result  \\\n",
       "0      0      0            0                    0          0              0   \n",
       "1      0      1            0                    0          0              0   \n",
       "2      0      0            0                    0          0              0   \n",
       "3      0      0            0                    0          0              0   \n",
       "4      0      1            0                    0          0              0   \n",
       "\n",
       "   gender  test_indication  \n",
       "0       1                0  \n",
       "1       1                0  \n",
       "2       0                0  \n",
       "3       1                0  \n",
       "4       1                1  "
      ]
     },
     "execution_count": 94,
     "metadata": {},
     "output_type": "execute_result"
    }
   ],
   "source": [
    "#convreting the cetegorical values into numerical values\n",
    "pd.options.mode.chained_assignment = None\n",
    "dataframe['corona_result'].replace(['negative', 'positive'], [0, 1], inplace=True)\n",
    "#dataframe['age_60_and_above'].replace(['No', 'Yes'], [0, 1], inplace=True)\n",
    "dataframe['gender'].replace(['male', 'female'], [1, 0], inplace=True)\n",
    "dataframe['test_indication'].replace(['Other', 'Contact with confirmed', 'Abroad'], [0, 1, 2], inplace=True)\n",
    "\n",
    "dataframe.head()"
   ]
  },
  {
   "cell_type": "code",
   "execution_count": 95,
   "metadata": {},
   "outputs": [
    {
     "data": {
      "text/plain": [
       "<AxesSubplot:>"
      ]
     },
     "execution_count": 95,
     "metadata": {},
     "output_type": "execute_result"
    },
    {
     "data": {
      "image/png": "[encoded data removed]",
      "text/plain": [
       "<Figure size 1296x1152 with 2 Axes>"
      ]
     },
     "metadata": {},
     "output_type": "display_data"
    }
   ],
   "source": [
    "#ploting a heatmap showing the coorelation\n",
    "plt.figure(figsize=(18, 16))\n",
    "cmap = sns.diverging_palette(230, 20, as_cmap=True)\n",
    "sns.heatmap(dataframe.corr(), cmap=cmap, annot=True)"
   ]
  },
  {
   "cell_type": "markdown",
   "metadata": {},
   "source": [
    "# Model Training"
   ]
  },
  {
   "cell_type": "markdown",
   "metadata": {},
   "source": [
    "### Spliting data into test and train set"
   ]
  },
  {
   "cell_type": "code",
   "execution_count": 96,
   "metadata": {},
   "outputs": [],
   "source": [
    "#features\n",
    "X = dataframe.drop('corona_result',axis=1)\n",
    "\n",
    "#target variable\n",
    "y = dataframe['corona_result']"
   ]
  },
  {
   "cell_type": "code",
   "execution_count": 97,
   "metadata": {},
   "outputs": [
    {
     "name": "stdout",
     "output_type": "stream",
     "text": [
      "Dataset shape Counter({0: 1943172, 1: 208726})\n"
     ]
    }
   ],
   "source": [
    "#count of positive and negative case in the dataset\n",
    "from collections import Counter\n",
    "\n",
    "print('Dataset shape %s' % Counter(y))"
   ]
  },
  {
   "cell_type": "code",
   "execution_count": 98,
   "metadata": {},
   "outputs": [
    {
     "data": {
      "image/png": "[encoded data removed]",
      "text/plain": [
       "<Figure size 1152x576 with 1 Axes>"
      ]
     },
     "metadata": {},
     "output_type": "display_data"
    }
   ],
   "source": [
    "#plot it for a better visualization\n",
    "class_distribution = pd.Series(y).value_counts(normalize=True)\n",
    "my_colors = ['b', 'r', 'g', 'y', 'k']\n",
    "ax = class_distribution.plot.bar(color=my_colors)"
   ]
  },
  {
   "cell_type": "code",
   "execution_count": 99,
   "metadata": {},
   "outputs": [],
   "source": [
    "#splitting the data into 75% train data and 25% test data\n",
    "from sklearn.model_selection import train_test_split\n",
    "\n",
    "X_train, X_test, y_train, y_test = train_test_split(X,y,test_size=0.25,random_state=101)"
   ]
  },
  {
   "cell_type": "markdown",
   "metadata": {},
   "source": [
    "## SMOTE - Oversampling Data"
   ]
  },
  {
   "cell_type": "code",
   "execution_count": 100,
   "metadata": {},
   "outputs": [
    {
     "name": "stdout",
     "output_type": "stream",
     "text": [
      "Oversampled dataset shape Counter({0: 1457216, 1: 1457216})\n"
     ]
    }
   ],
   "source": [
    "#oversampling data to balance it\n",
    "from imblearn.over_sampling import SMOTE\n",
    "\n",
    "oversample = SMOTE()\n",
    "X_res, y_res = oversample.fit_resample(X_train, y_train)\n",
    "\n",
    "print('Oversampled dataset shape %s' % Counter(y_res))"
   ]
  },
  {
   "cell_type": "code",
   "execution_count": 101,
   "metadata": {},
   "outputs": [
    {
     "data": {
      "image/png": "[encoded data removed]",
      "text/plain": [
       "<Figure size 1152x576 with 1 Axes>"
      ]
     },
     "metadata": {},
     "output_type": "display_data"
    }
   ],
   "source": [
    "#plot it for a better visualization\n",
    "class_distribution = pd.Series(y_res).value_counts(normalize=True)\n",
    "my_colors = ['b', 'r', 'g', 'y', 'k']\n",
    "ax = class_distribution.plot.bar(color=my_colors)"
   ]
  },
  {
   "cell_type": "code",
   "execution_count": 102,
   "metadata": {},
   "outputs": [],
   "source": [
    "X_train = X_res\n",
    "y_train = y_res"
   ]
  },
  {
   "cell_type": "code",
   "execution_count": 103,
   "metadata": {},
   "outputs": [
    {
     "data": {
      "text/plain": [
       "(2914432, 7)"
      ]
     },
     "execution_count": 103,
     "metadata": {},
     "output_type": "execute_result"
    }
   ],
   "source": [
    "#number of training data\n",
    "X_train.shape"
   ]
  },
  {
   "cell_type": "code",
   "execution_count": 104,
   "metadata": {},
   "outputs": [
    {
     "data": {
      "text/plain": [
       "(537975, 7)"
      ]
     },
     "execution_count": 104,
     "metadata": {},
     "output_type": "execute_result"
    }
   ],
   "source": [
    "#number of test data\n",
    "X_test.shape"
   ]
  },
  {
   "cell_type": "markdown",
   "metadata": {},
   "source": [
    "### Logistic Regression Model"
   ]
  },
  {
   "cell_type": "code",
   "execution_count": 105,
   "metadata": {},
   "outputs": [],
   "source": [
    "#necessary library\n",
    "from sklearn.linear_model import LogisticRegression"
   ]
  },
  {
   "cell_type": "code",
   "execution_count": 106,
   "metadata": {},
   "outputs": [
    {
     "data": {
      "text/plain": [
       "LogisticRegression()"
      ]
     },
     "execution_count": 106,
     "metadata": {},
     "output_type": "execute_result"
    }
   ],
   "source": [
    "#training the model\n",
    "log_model = LogisticRegression()\n",
    "log_model.fit(X_train, y_train)"
   ]
  },
  {
   "cell_type": "code",
   "execution_count": 107,
   "metadata": {},
   "outputs": [],
   "source": [
    "#prediction on test data\n",
    "predictions = log_model.predict(X_test)"
   ]
  },
  {
   "cell_type": "code",
   "execution_count": 108,
   "metadata": {},
   "outputs": [
    {
     "data": {
      "text/html": [
       "<div>\n",
       "<style scoped>\n",
       "    .dataframe tbody tr th:only-of-type {\n",
       "        vertical-align: middle;\n",
       "    }\n",
       "\n",
       "    .dataframe tbody tr th {\n",
       "        vertical-align: top;\n",
       "    }\n",
       "\n",
       "    .dataframe thead th {\n",
       "        text-align: right;\n",
       "    }\n",
       "</style>\n",
       "<table border=\"1\" class=\"dataframe\">\n",
       "  <thead>\n",
       "    <tr style=\"text-align: right;\">\n",
       "      <th></th>\n",
       "      <th>Actual</th>\n",
       "      <th>Predicted</th>\n",
       "    </tr>\n",
       "  </thead>\n",
       "  <tbody>\n",
       "    <tr>\n",
       "      <th>628549</th>\n",
       "      <td>0</td>\n",
       "      <td>0</td>\n",
       "    </tr>\n",
       "    <tr>\n",
       "      <th>184491</th>\n",
       "      <td>0</td>\n",
       "      <td>0</td>\n",
       "    </tr>\n",
       "    <tr>\n",
       "      <th>36036</th>\n",
       "      <td>0</td>\n",
       "      <td>0</td>\n",
       "    </tr>\n",
       "    <tr>\n",
       "      <th>1633189</th>\n",
       "      <td>0</td>\n",
       "      <td>0</td>\n",
       "    </tr>\n",
       "    <tr>\n",
       "      <th>1528526</th>\n",
       "      <td>0</td>\n",
       "      <td>0</td>\n",
       "    </tr>\n",
       "    <tr>\n",
       "      <th>...</th>\n",
       "      <td>...</td>\n",
       "      <td>...</td>\n",
       "    </tr>\n",
       "    <tr>\n",
       "      <th>1141316</th>\n",
       "      <td>0</td>\n",
       "      <td>0</td>\n",
       "    </tr>\n",
       "    <tr>\n",
       "      <th>371092</th>\n",
       "      <td>0</td>\n",
       "      <td>0</td>\n",
       "    </tr>\n",
       "    <tr>\n",
       "      <th>101296</th>\n",
       "      <td>0</td>\n",
       "      <td>0</td>\n",
       "    </tr>\n",
       "    <tr>\n",
       "      <th>66571</th>\n",
       "      <td>0</td>\n",
       "      <td>0</td>\n",
       "    </tr>\n",
       "    <tr>\n",
       "      <th>1578611</th>\n",
       "      <td>0</td>\n",
       "      <td>1</td>\n",
       "    </tr>\n",
       "  </tbody>\n",
       "</table>\n",
       "<p>537975 rows × 2 columns</p>\n",
       "</div>"
      ],
      "text/plain": [
       "         Actual  Predicted\n",
       "628549        0          0\n",
       "184491        0          0\n",
       "36036         0          0\n",
       "1633189       0          0\n",
       "1528526       0          0\n",
       "...         ...        ...\n",
       "1141316       0          0\n",
       "371092        0          0\n",
       "101296        0          0\n",
       "66571         0          0\n",
       "1578611       0          1\n",
       "\n",
       "[537975 rows x 2 columns]"
      ]
     },
     "execution_count": 108,
     "metadata": {},
     "output_type": "execute_result"
    }
   ],
   "source": [
    "#showing the actual corona result and predicted corona result side by side\n",
    "result = pd.DataFrame({'Actual': y_test, 'Predicted': predictions})\n",
    "result"
   ]
  },
  {
   "cell_type": "code",
   "execution_count": 109,
   "metadata": {},
   "outputs": [
    {
     "data": {
      "text/plain": [
       "0.9202026116455225"
      ]
     },
     "execution_count": 109,
     "metadata": {},
     "output_type": "execute_result"
    }
   ],
   "source": [
    "#model's accurary score\n",
    "log_model.score(X_test, y_test)"
   ]
  },
  {
   "cell_type": "code",
   "execution_count": 110,
   "metadata": {},
   "outputs": [],
   "source": [
    "#save the model\n",
    "import pickle\n",
    "\n",
    "#filename = 'LogisticRegression_model.sav'\n",
    "#pickle.dump(log_model, open(filename, 'wb'))"
   ]
  },
  {
   "cell_type": "markdown",
   "metadata": {},
   "source": [
    "#### Evaluating logistic regression model"
   ]
  },
  {
   "cell_type": "code",
   "execution_count": 111,
   "metadata": {},
   "outputs": [],
   "source": [
    "#necessary library\n",
    "from sklearn.metrics import mean_squared_error, mean_absolute_error, r2_score\n",
    "from sklearn.metrics import confusion_matrix"
   ]
  },
  {
   "cell_type": "code",
   "execution_count": 112,
   "metadata": {},
   "outputs": [
    {
     "name": "stdout",
     "output_type": "stream",
     "text": [
      "              precision    recall  f1-score   support\n",
      "\n",
      "    Negative       0.96      0.95      0.96    485956\n",
      "    Positive       0.58      0.64      0.61     52019\n",
      "\n",
      "    accuracy                           0.92    537975\n",
      "   macro avg       0.77      0.80      0.78    537975\n",
      "weighted avg       0.92      0.92      0.92    537975\n",
      "\n"
     ]
    }
   ],
   "source": [
    "#Classification Report\n",
    "from sklearn.metrics import classification_report\n",
    "\n",
    "print(classification_report(y_test, predictions, target_names=['Negative', 'Positive']))"
   ]
  },
  {
   "cell_type": "code",
   "execution_count": 113,
   "metadata": {},
   "outputs": [
    {
     "data": {
      "image/png": "[encoded data removed]",
      "text/plain": [
       "<Figure size 432x288 with 1 Axes>"
      ]
     },
     "metadata": {},
     "output_type": "display_data"
    }
   ],
   "source": [
    "#confusion matrix\n",
    "\n",
    "cm = confusion_matrix(y_test, predictions)\n",
    "\n",
    "plt.figure(figsize=(6,4))\n",
    "sns.heatmap(cm, annot=True, square=True,  fmt='d',\n",
    "           cmap=plt.cm.Blues, cbar=False)\n",
    "plt.ylabel('True Labels', fontsize=12)\n",
    "plt.xlabel('Predicted Labels', fontsize=12)\n",
    "plt.show()\n"
   ]
  },
  {
   "cell_type": "code",
   "execution_count": 114,
   "metadata": {},
   "outputs": [
    {
     "data": {
      "text/plain": [
       "0.07979738835447744"
      ]
     },
     "execution_count": 114,
     "metadata": {},
     "output_type": "execute_result"
    }
   ],
   "source": [
    "#mean squared error\n",
    "mean_squared_error(y_test, predictions)"
   ]
  },
  {
   "cell_type": "code",
   "execution_count": 115,
   "metadata": {},
   "outputs": [
    {
     "data": {
      "text/plain": [
       "0.07979738835447744"
      ]
     },
     "execution_count": 115,
     "metadata": {},
     "output_type": "execute_result"
    }
   ],
   "source": [
    "#mean absolute error\n",
    "mean_absolute_error(y_test, predictions)"
   ]
  },
  {
   "cell_type": "code",
   "execution_count": 116,
   "metadata": {},
   "outputs": [
    {
     "data": {
      "text/plain": [
       "0.08640457008113467"
      ]
     },
     "execution_count": 116,
     "metadata": {},
     "output_type": "execute_result"
    }
   ],
   "source": [
    "#r2 Score\n",
    "r2_score(y_test, predictions)"
   ]
  },
  {
   "cell_type": "code",
   "execution_count": null,
   "metadata": {},
   "outputs": [],
   "source": []
  },
  {
   "cell_type": "markdown",
   "metadata": {},
   "source": [
    "### Decision Tree Model"
   ]
  },
  {
   "cell_type": "code",
   "execution_count": 117,
   "metadata": {},
   "outputs": [
    {
     "name": "stdout",
     "output_type": "stream",
     "text": [
      "Depth=  1 :  0.9151466146196384\n",
      "Depth=  2 :  0.9182768716018402\n",
      "Depth=  3 :  0.9272178075189368\n",
      "Depth=  4 :  0.9211078581718481\n",
      "Depth=  5 :  0.9215985872949487\n",
      "Depth=  6 :  0.9218067754077792\n",
      "Depth=  7 :  0.9218067754077792\n",
      "Depth=  8 :  0.9219573400250941\n",
      "Depth=  9 :  0.9219573400250941\n"
     ]
    }
   ],
   "source": [
    "#finding optimum depth for decision tree\n",
    "from sklearn.tree import DecisionTreeClassifier\n",
    "from sklearn.metrics import accuracy_score\n",
    "\n",
    "depth = []\n",
    "for i in range(1, 10):\n",
    "    d_tree = DecisionTreeClassifier(criterion='entropy', random_state=100, max_depth=i)\n",
    "    d_tree.fit(X_train, y_train)\n",
    "    y_predict = d_tree.predict(X_test)\n",
    "    depth.append(accuracy_score(y_test, y_predict))\n",
    "    print('Depth= ', i, \": \", accuracy_score(y_test, y_predict))"
   ]
  },
  {
   "cell_type": "code",
   "execution_count": 118,
   "metadata": {},
   "outputs": [
    {
     "name": "stderr",
     "output_type": "stream",
     "text": [
      "No artists with labels found to put in legend.  Note that artists whose label start with an underscore are ignored when legend() is called with no argument.\n"
     ]
    },
    {
     "data": {
      "image/png": "[encoded data removed]",
      "text/plain": [
       "<Figure size 864x576 with 1 Axes>"
      ]
     },
     "metadata": {},
     "output_type": "display_data"
    }
   ],
   "source": [
    "#ploting the accuracies for different tree depth\n",
    "plt.figure(figsize=(12, 8))\n",
    "plt.plot(range(1, 10), depth, marker='o')\n",
    "plt.xlabel('Depth', fontsize=20)\n",
    "plt.ylabel('Accuracy', fontsize=20)\n",
    "plt.xticks(range(1, 10))\n",
    "legend_prop = {'weight':'bold'}\n",
    "plt.legend(prop=legend_prop)\n",
    "plt.show()"
   ]
  },
  {
   "cell_type": "code",
   "execution_count": 119,
   "metadata": {},
   "outputs": [
    {
     "data": {
      "text/plain": [
       "DecisionTreeClassifier(criterion='entropy', max_depth=7, random_state=100)"
      ]
     },
     "execution_count": 119,
     "metadata": {},
     "output_type": "execute_result"
    }
   ],
   "source": [
    "#making model with depth=7 for prediction\n",
    "d_tree = DecisionTreeClassifier(criterion='entropy', random_state=100, max_depth=7)\n",
    "d_tree.fit(X_train, y_train)"
   ]
  },
  {
   "cell_type": "code",
   "execution_count": 120,
   "metadata": {},
   "outputs": [],
   "source": [
    "#prediction on test data\n",
    "predictions = d_tree.predict(X_test)"
   ]
  },
  {
   "cell_type": "code",
   "execution_count": 121,
   "metadata": {},
   "outputs": [
    {
     "data": {
      "text/html": [
       "<div>\n",
       "<style scoped>\n",
       "    .dataframe tbody tr th:only-of-type {\n",
       "        vertical-align: middle;\n",
       "    }\n",
       "\n",
       "    .dataframe tbody tr th {\n",
       "        vertical-align: top;\n",
       "    }\n",
       "\n",
       "    .dataframe thead th {\n",
       "        text-align: right;\n",
       "    }\n",
       "</style>\n",
       "<table border=\"1\" class=\"dataframe\">\n",
       "  <thead>\n",
       "    <tr style=\"text-align: right;\">\n",
       "      <th></th>\n",
       "      <th>Actual</th>\n",
       "      <th>Predicted</th>\n",
       "    </tr>\n",
       "  </thead>\n",
       "  <tbody>\n",
       "    <tr>\n",
       "      <th>628549</th>\n",
       "      <td>0</td>\n",
       "      <td>0</td>\n",
       "    </tr>\n",
       "    <tr>\n",
       "      <th>184491</th>\n",
       "      <td>0</td>\n",
       "      <td>0</td>\n",
       "    </tr>\n",
       "    <tr>\n",
       "      <th>36036</th>\n",
       "      <td>0</td>\n",
       "      <td>0</td>\n",
       "    </tr>\n",
       "    <tr>\n",
       "      <th>1633189</th>\n",
       "      <td>0</td>\n",
       "      <td>0</td>\n",
       "    </tr>\n",
       "    <tr>\n",
       "      <th>1528526</th>\n",
       "      <td>0</td>\n",
       "      <td>0</td>\n",
       "    </tr>\n",
       "    <tr>\n",
       "      <th>...</th>\n",
       "      <td>...</td>\n",
       "      <td>...</td>\n",
       "    </tr>\n",
       "    <tr>\n",
       "      <th>1141316</th>\n",
       "      <td>0</td>\n",
       "      <td>0</td>\n",
       "    </tr>\n",
       "    <tr>\n",
       "      <th>371092</th>\n",
       "      <td>0</td>\n",
       "      <td>0</td>\n",
       "    </tr>\n",
       "    <tr>\n",
       "      <th>101296</th>\n",
       "      <td>0</td>\n",
       "      <td>0</td>\n",
       "    </tr>\n",
       "    <tr>\n",
       "      <th>66571</th>\n",
       "      <td>0</td>\n",
       "      <td>0</td>\n",
       "    </tr>\n",
       "    <tr>\n",
       "      <th>1578611</th>\n",
       "      <td>0</td>\n",
       "      <td>1</td>\n",
       "    </tr>\n",
       "  </tbody>\n",
       "</table>\n",
       "<p>537975 rows × 2 columns</p>\n",
       "</div>"
      ],
      "text/plain": [
       "         Actual  Predicted\n",
       "628549        0          0\n",
       "184491        0          0\n",
       "36036         0          0\n",
       "1633189       0          0\n",
       "1528526       0          0\n",
       "...         ...        ...\n",
       "1141316       0          0\n",
       "371092        0          0\n",
       "101296        0          0\n",
       "66571         0          0\n",
       "1578611       0          1\n",
       "\n",
       "[537975 rows x 2 columns]"
      ]
     },
     "execution_count": 121,
     "metadata": {},
     "output_type": "execute_result"
    }
   ],
   "source": [
    "#showing the actual corona result and predicted corona result side by side\n",
    "result = pd.DataFrame({'Actual': y_test, 'Predicted': predictions})\n",
    "result"
   ]
  },
  {
   "cell_type": "code",
   "execution_count": 122,
   "metadata": {},
   "outputs": [
    {
     "data": {
      "text/plain": [
       "0.9218067754077792"
      ]
     },
     "execution_count": 122,
     "metadata": {},
     "output_type": "execute_result"
    }
   ],
   "source": [
    "#model's accurary score\n",
    "d_tree.score(X_test, y_test)"
   ]
  },
  {
   "cell_type": "code",
   "execution_count": 123,
   "metadata": {},
   "outputs": [],
   "source": [
    "#save the model\n",
    "import pickle\n",
    "\n",
    "#filename = 'DecisionTree_model.sav'\n",
    "#pickle.dump(d_tree, open(filename, 'wb'))"
   ]
  },
  {
   "cell_type": "markdown",
   "metadata": {},
   "source": [
    "#### Evaluating Decision Tree model"
   ]
  },
  {
   "cell_type": "code",
   "execution_count": 124,
   "metadata": {},
   "outputs": [
    {
     "name": "stdout",
     "output_type": "stream",
     "text": [
      "              precision    recall  f1-score   support\n",
      "\n",
      "    Negative       0.96      0.95      0.96    485956\n",
      "    Positive       0.59      0.65      0.62     52019\n",
      "\n",
      "    accuracy                           0.92    537975\n",
      "   macro avg       0.77      0.80      0.79    537975\n",
      "weighted avg       0.93      0.92      0.92    537975\n",
      "\n"
     ]
    }
   ],
   "source": [
    "#classification report for Decision Tree\n",
    "print(classification_report(y_test, predictions, target_names=['Negative', 'Positive']))"
   ]
  },
  {
   "cell_type": "code",
   "execution_count": 125,
   "metadata": {},
   "outputs": [
    {
     "data": {
      "image/png": "[encoded data removed]",
      "text/plain": [
       "<Figure size 432x288 with 1 Axes>"
      ]
     },
     "metadata": {},
     "output_type": "display_data"
    }
   ],
   "source": [
    "#confusion matrix\n",
    "\n",
    "cm = confusion_matrix(y_test, predictions)\n",
    "\n",
    "plt.figure(figsize=(6,4))\n",
    "sns.heatmap(cm, annot=True, square=True,  fmt='d',\n",
    "           cmap=plt.cm.Blues, cbar=False)\n",
    "plt.ylabel('True Labels', fontsize=12)\n",
    "plt.xlabel('Predicted Labels', fontsize=12)\n",
    "plt.show()"
   ]
  },
  {
   "cell_type": "code",
   "execution_count": 126,
   "metadata": {},
   "outputs": [
    {
     "data": {
      "text/plain": [
       "0.07819322459222083"
      ]
     },
     "execution_count": 126,
     "metadata": {},
     "output_type": "execute_result"
    }
   ],
   "source": [
    "#mean squared error\n",
    "mean_squared_error(y_test, predictions)"
   ]
  },
  {
   "cell_type": "code",
   "execution_count": 127,
   "metadata": {},
   "outputs": [
    {
     "data": {
      "text/plain": [
       "0.07819322459222083"
      ]
     },
     "execution_count": 127,
     "metadata": {},
     "output_type": "execute_result"
    }
   ],
   "source": [
    "#mean absolute error\n",
    "mean_absolute_error(y_test, predictions)"
   ]
  },
  {
   "cell_type": "code",
   "execution_count": 128,
   "metadata": {},
   "outputs": [
    {
     "data": {
      "text/plain": [
       "0.10477054310682787"
      ]
     },
     "execution_count": 128,
     "metadata": {},
     "output_type": "execute_result"
    }
   ],
   "source": [
    "#r2 Score\n",
    "r2_score(y_test, predictions)"
   ]
  },
  {
   "cell_type": "code",
   "execution_count": null,
   "metadata": {},
   "outputs": [],
   "source": []
  },
  {
   "cell_type": "markdown",
   "metadata": {},
   "source": [
    "### Random Forest Model"
   ]
  },
  {
   "cell_type": "code",
   "execution_count": 129,
   "metadata": {},
   "outputs": [
    {
     "data": {
      "text/plain": [
       "RandomForestClassifier(random_state=0)"
      ]
     },
     "execution_count": 129,
     "metadata": {},
     "output_type": "execute_result"
    }
   ],
   "source": [
    "#creating model and making predicton\n",
    "from sklearn.ensemble import RandomForestClassifier\n",
    "\n",
    "r_forest = RandomForestClassifier(random_state=0)\n",
    "r_forest.fit(X_train, y_train)"
   ]
  },
  {
   "cell_type": "code",
   "execution_count": 130,
   "metadata": {},
   "outputs": [],
   "source": [
    "#prediction on test data\n",
    "predictions = r_forest.predict(X_test)\n"
   ]
  },
  {
   "cell_type": "code",
   "execution_count": 131,
   "metadata": {},
   "outputs": [
    {
     "data": {
      "text/html": [
       "<div>\n",
       "<style scoped>\n",
       "    .dataframe tbody tr th:only-of-type {\n",
       "        vertical-align: middle;\n",
       "    }\n",
       "\n",
       "    .dataframe tbody tr th {\n",
       "        vertical-align: top;\n",
       "    }\n",
       "\n",
       "    .dataframe thead th {\n",
       "        text-align: right;\n",
       "    }\n",
       "</style>\n",
       "<table border=\"1\" class=\"dataframe\">\n",
       "  <thead>\n",
       "    <tr style=\"text-align: right;\">\n",
       "      <th></th>\n",
       "      <th>Actual</th>\n",
       "      <th>Predicted</th>\n",
       "    </tr>\n",
       "  </thead>\n",
       "  <tbody>\n",
       "    <tr>\n",
       "      <th>628549</th>\n",
       "      <td>0</td>\n",
       "      <td>0</td>\n",
       "    </tr>\n",
       "    <tr>\n",
       "      <th>184491</th>\n",
       "      <td>0</td>\n",
       "      <td>0</td>\n",
       "    </tr>\n",
       "    <tr>\n",
       "      <th>36036</th>\n",
       "      <td>0</td>\n",
       "      <td>0</td>\n",
       "    </tr>\n",
       "    <tr>\n",
       "      <th>1633189</th>\n",
       "      <td>0</td>\n",
       "      <td>0</td>\n",
       "    </tr>\n",
       "    <tr>\n",
       "      <th>1528526</th>\n",
       "      <td>0</td>\n",
       "      <td>0</td>\n",
       "    </tr>\n",
       "    <tr>\n",
       "      <th>...</th>\n",
       "      <td>...</td>\n",
       "      <td>...</td>\n",
       "    </tr>\n",
       "    <tr>\n",
       "      <th>1141316</th>\n",
       "      <td>0</td>\n",
       "      <td>0</td>\n",
       "    </tr>\n",
       "    <tr>\n",
       "      <th>371092</th>\n",
       "      <td>0</td>\n",
       "      <td>0</td>\n",
       "    </tr>\n",
       "    <tr>\n",
       "      <th>101296</th>\n",
       "      <td>0</td>\n",
       "      <td>0</td>\n",
       "    </tr>\n",
       "    <tr>\n",
       "      <th>66571</th>\n",
       "      <td>0</td>\n",
       "      <td>0</td>\n",
       "    </tr>\n",
       "    <tr>\n",
       "      <th>1578611</th>\n",
       "      <td>0</td>\n",
       "      <td>1</td>\n",
       "    </tr>\n",
       "  </tbody>\n",
       "</table>\n",
       "<p>537975 rows × 2 columns</p>\n",
       "</div>"
      ],
      "text/plain": [
       "         Actual  Predicted\n",
       "628549        0          0\n",
       "184491        0          0\n",
       "36036         0          0\n",
       "1633189       0          0\n",
       "1528526       0          0\n",
       "...         ...        ...\n",
       "1141316       0          0\n",
       "371092        0          0\n",
       "101296        0          0\n",
       "66571         0          0\n",
       "1578611       0          1\n",
       "\n",
       "[537975 rows x 2 columns]"
      ]
     },
     "execution_count": 131,
     "metadata": {},
     "output_type": "execute_result"
    }
   ],
   "source": [
    "#showing the actual corona result and predicted corona result side by side\n",
    "result = pd.DataFrame({'Actual': y_test, 'Predicted': predictions})\n",
    "result"
   ]
  },
  {
   "cell_type": "code",
   "execution_count": 132,
   "metadata": {},
   "outputs": [
    {
     "data": {
      "text/plain": [
       "0.9219573400250941"
      ]
     },
     "execution_count": 132,
     "metadata": {},
     "output_type": "execute_result"
    }
   ],
   "source": [
    "#model's accurary score\n",
    "r_forest.score(X_test, y_test)"
   ]
  },
  {
   "cell_type": "code",
   "execution_count": 133,
   "metadata": {},
   "outputs": [],
   "source": [
    "#save the model\n",
    "\n",
    "filename = 'RandomForest_model.sav'\n",
    "#pickle.dump(r_forest, open(filename, 'wb'))"
   ]
  },
  {
   "cell_type": "markdown",
   "metadata": {},
   "source": [
    "#### Evaluating Random Forest model"
   ]
  },
  {
   "cell_type": "code",
   "execution_count": 134,
   "metadata": {},
   "outputs": [
    {
     "name": "stdout",
     "output_type": "stream",
     "text": [
      "              precision    recall  f1-score   support\n",
      "\n",
      "    Negative       0.96      0.95      0.96    485956\n",
      "    Positive       0.59      0.65      0.62     52019\n",
      "\n",
      "    accuracy                           0.92    537975\n",
      "   macro avg       0.77      0.80      0.79    537975\n",
      "weighted avg       0.93      0.92      0.92    537975\n",
      "\n"
     ]
    }
   ],
   "source": [
    "#Classification Report\n",
    "\n",
    "print(classification_report(y_test, predictions, target_names=['Negative', 'Positive']))"
   ]
  },
  {
   "cell_type": "code",
   "execution_count": 135,
   "metadata": {},
   "outputs": [
    {
     "data": {
      "image/png": "[encoded data removed]",
      "text/plain": [
       "<Figure size 432x288 with 1 Axes>"
      ]
     },
     "metadata": {},
     "output_type": "display_data"
    }
   ],
   "source": [
    "#confusion matrix\n",
    "\n",
    "cm = confusion_matrix(y_test, predictions)\n",
    "\n",
    "plt.figure(figsize=(6,4))\n",
    "sns.heatmap(cm, annot=True, square=True,  fmt='d',\n",
    "           cmap=plt.cm.Blues, cbar=False)\n",
    "plt.ylabel('True Labels', fontsize=12)\n",
    "plt.xlabel('Predicted Labels', fontsize=12)\n",
    "plt.show()"
   ]
  },
  {
   "cell_type": "code",
   "execution_count": 136,
   "metadata": {},
   "outputs": [
    {
     "data": {
      "text/plain": [
       "0.07804265997490589"
      ]
     },
     "execution_count": 136,
     "metadata": {},
     "output_type": "execute_result"
    }
   ],
   "source": [
    "#mean squared error\n",
    "mean_squared_error(y_test, predictions)"
   ]
  },
  {
   "cell_type": "code",
   "execution_count": 137,
   "metadata": {},
   "outputs": [
    {
     "data": {
      "text/plain": [
       "0.07804265997490589"
      ]
     },
     "execution_count": 137,
     "metadata": {},
     "output_type": "execute_result"
    }
   ],
   "source": [
    "#mean absolute error\n",
    "mean_absolute_error(y_test, predictions)"
   ]
  },
  {
   "cell_type": "code",
   "execution_count": 138,
   "metadata": {},
   "outputs": [
    {
     "data": {
      "text/plain": [
       "0.10649434822279669"
      ]
     },
     "execution_count": 138,
     "metadata": {},
     "output_type": "execute_result"
    }
   ],
   "source": [
    "#r2 Score\n",
    "r2_score(y_test, predictions)"
   ]
  },
  {
   "cell_type": "code",
   "execution_count": null,
   "metadata": {},
   "outputs": [],
   "source": []
  },
  {
   "cell_type": "markdown",
   "metadata": {},
   "source": [
    "### KNN Model"
   ]
  },
  {
   "cell_type": "markdown",
   "metadata": {},
   "source": [
    "Creating a smaller subset of test data for KNN"
   ]
  },
  {
   "cell_type": "code",
   "execution_count": 139,
   "metadata": {},
   "outputs": [],
   "source": [
    "d_X_test = X_test.head(10000)\n",
    "#d_X_test.value_counts()"
   ]
  },
  {
   "cell_type": "code",
   "execution_count": 140,
   "metadata": {},
   "outputs": [
    {
     "data": {
      "text/plain": [
       "0    9062\n",
       "1     938\n",
       "Name: corona_result, dtype: int64"
      ]
     },
     "execution_count": 140,
     "metadata": {},
     "output_type": "execute_result"
    }
   ],
   "source": [
    "d_y_test = y_test.head(10000)\n",
    "d_y_test.value_counts()"
   ]
  },
  {
   "cell_type": "markdown",
   "metadata": {},
   "source": [
    "Training the model"
   ]
  },
  {
   "cell_type": "code",
   "execution_count": 141,
   "metadata": {},
   "outputs": [],
   "source": [
    "#necessary library\n",
    "from sklearn.neighbors import KNeighborsClassifier"
   ]
  },
  {
   "cell_type": "code",
   "execution_count": 142,
   "metadata": {},
   "outputs": [
    {
     "data": {
      "text/plain": [
       "KNeighborsClassifier(n_jobs=-1, n_neighbors=10)"
      ]
     },
     "execution_count": 142,
     "metadata": {},
     "output_type": "execute_result"
    }
   ],
   "source": [
    "#making model with k=25 for prediction\n",
    "KNN = KNeighborsClassifier(n_neighbors=10, n_jobs=-1)\n",
    "KNN.fit(X_train, y_train)"
   ]
  },
  {
   "cell_type": "code",
   "execution_count": 143,
   "metadata": {},
   "outputs": [],
   "source": [
    "#prediction on test data\n",
    "predictions = KNN.predict(d_X_test)"
   ]
  },
  {
   "cell_type": "code",
   "execution_count": null,
   "metadata": {},
   "outputs": [],
   "source": []
  },
  {
   "cell_type": "code",
   "execution_count": 144,
   "metadata": {},
   "outputs": [
    {
     "data": {
      "text/html": [
       "<div>\n",
       "<style scoped>\n",
       "    .dataframe tbody tr th:only-of-type {\n",
       "        vertical-align: middle;\n",
       "    }\n",
       "\n",
       "    .dataframe tbody tr th {\n",
       "        vertical-align: top;\n",
       "    }\n",
       "\n",
       "    .dataframe thead th {\n",
       "        text-align: right;\n",
       "    }\n",
       "</style>\n",
       "<table border=\"1\" class=\"dataframe\">\n",
       "  <thead>\n",
       "    <tr style=\"text-align: right;\">\n",
       "      <th></th>\n",
       "      <th>Actual</th>\n",
       "      <th>Predicted</th>\n",
       "    </tr>\n",
       "  </thead>\n",
       "  <tbody>\n",
       "    <tr>\n",
       "      <th>628549</th>\n",
       "      <td>0</td>\n",
       "      <td>0</td>\n",
       "    </tr>\n",
       "    <tr>\n",
       "      <th>184491</th>\n",
       "      <td>0</td>\n",
       "      <td>0</td>\n",
       "    </tr>\n",
       "    <tr>\n",
       "      <th>36036</th>\n",
       "      <td>0</td>\n",
       "      <td>0</td>\n",
       "    </tr>\n",
       "    <tr>\n",
       "      <th>1633189</th>\n",
       "      <td>0</td>\n",
       "      <td>0</td>\n",
       "    </tr>\n",
       "    <tr>\n",
       "      <th>1528526</th>\n",
       "      <td>0</td>\n",
       "      <td>0</td>\n",
       "    </tr>\n",
       "    <tr>\n",
       "      <th>...</th>\n",
       "      <td>...</td>\n",
       "      <td>...</td>\n",
       "    </tr>\n",
       "    <tr>\n",
       "      <th>702896</th>\n",
       "      <td>0</td>\n",
       "      <td>0</td>\n",
       "    </tr>\n",
       "    <tr>\n",
       "      <th>683427</th>\n",
       "      <td>0</td>\n",
       "      <td>1</td>\n",
       "    </tr>\n",
       "    <tr>\n",
       "      <th>381138</th>\n",
       "      <td>0</td>\n",
       "      <td>0</td>\n",
       "    </tr>\n",
       "    <tr>\n",
       "      <th>1147284</th>\n",
       "      <td>0</td>\n",
       "      <td>0</td>\n",
       "    </tr>\n",
       "    <tr>\n",
       "      <th>1572500</th>\n",
       "      <td>0</td>\n",
       "      <td>0</td>\n",
       "    </tr>\n",
       "  </tbody>\n",
       "</table>\n",
       "<p>10000 rows × 2 columns</p>\n",
       "</div>"
      ],
      "text/plain": [
       "         Actual  Predicted\n",
       "628549        0          0\n",
       "184491        0          0\n",
       "36036         0          0\n",
       "1633189       0          0\n",
       "1528526       0          0\n",
       "...         ...        ...\n",
       "702896        0          0\n",
       "683427        0          1\n",
       "381138        0          0\n",
       "1147284       0          0\n",
       "1572500       0          0\n",
       "\n",
       "[10000 rows x 2 columns]"
      ]
     },
     "execution_count": 144,
     "metadata": {},
     "output_type": "execute_result"
    }
   ],
   "source": [
    "#showing the actual corona result and predicted corona result side by side\n",
    "result = pd.DataFrame({'Actual': d_y_test, 'Predicted': predictions})\n",
    "result"
   ]
  },
  {
   "cell_type": "code",
   "execution_count": 145,
   "metadata": {},
   "outputs": [
    {
     "data": {
      "text/plain": [
       "0.9216"
      ]
     },
     "execution_count": 145,
     "metadata": {},
     "output_type": "execute_result"
    }
   ],
   "source": [
    "#model's accurary score\n",
    "KNN.score(d_X_test, d_y_test)"
   ]
  },
  {
   "cell_type": "code",
   "execution_count": 146,
   "metadata": {},
   "outputs": [],
   "source": [
    "#save the model\n",
    "\n",
    "filename = 'KNN_model.sav'\n",
    "#pickle.dump(KNN, open(filename, 'wb'))"
   ]
  },
  {
   "cell_type": "markdown",
   "metadata": {},
   "source": [
    "#### Evaluating KNN model"
   ]
  },
  {
   "cell_type": "code",
   "execution_count": 147,
   "metadata": {},
   "outputs": [
    {
     "name": "stdout",
     "output_type": "stream",
     "text": [
      "              precision    recall  f1-score   support\n",
      "\n",
      "    Negative       0.94      0.98      0.96      9062\n",
      "    Positive       0.63      0.39      0.48       938\n",
      "\n",
      "    accuracy                           0.92     10000\n",
      "   macro avg       0.79      0.68      0.72     10000\n",
      "weighted avg       0.91      0.92      0.91     10000\n",
      "\n"
     ]
    }
   ],
   "source": [
    "#Classification Report\n",
    "\n",
    "print(classification_report(d_y_test, predictions, target_names=['Negative', 'Positive']))"
   ]
  },
  {
   "cell_type": "code",
   "execution_count": 148,
   "metadata": {},
   "outputs": [
    {
     "data": {
      "image/png": "[encoded data removed]",
      "text/plain": [
       "<Figure size 432x288 with 1 Axes>"
      ]
     },
     "metadata": {},
     "output_type": "display_data"
    }
   ],
   "source": [
    "#confusion matrix\n",
    "\n",
    "cm = confusion_matrix(d_y_test, predictions)\n",
    "\n",
    "plt.figure(figsize=(6,4))\n",
    "sns.heatmap(cm, annot=True, square=True,  fmt='d',\n",
    "           cmap=plt.cm.Blues, cbar=False)\n",
    "plt.ylabel('True Labels', fontsize=12)\n",
    "plt.xlabel('Predicted Labels', fontsize=12)\n",
    "plt.show()"
   ]
  },
  {
   "cell_type": "code",
   "execution_count": 149,
   "metadata": {},
   "outputs": [
    {
     "data": {
      "text/plain": [
       "0.0784"
      ]
     },
     "execution_count": 149,
     "metadata": {},
     "output_type": "execute_result"
    }
   ],
   "source": [
    "#mean squared error\n",
    "mean_squared_error(d_y_test, predictions)"
   ]
  },
  {
   "cell_type": "code",
   "execution_count": 150,
   "metadata": {},
   "outputs": [
    {
     "data": {
      "text/plain": [
       "0.0784"
      ]
     },
     "execution_count": 150,
     "metadata": {},
     "output_type": "execute_result"
    }
   ],
   "source": [
    "#mean absolute error\n",
    "mean_absolute_error(d_y_test, predictions)"
   ]
  },
  {
   "cell_type": "code",
   "execution_count": 151,
   "metadata": {},
   "outputs": [
    {
     "data": {
      "text/plain": [
       "0.07766398640213201"
      ]
     },
     "execution_count": 151,
     "metadata": {},
     "output_type": "execute_result"
    }
   ],
   "source": [
    "#r2 Score\n",
    "r2_score(d_y_test, predictions)"
   ]
  },
  {
   "cell_type": "code",
   "execution_count": null,
   "metadata": {},
   "outputs": [],
   "source": []
  },
  {
   "cell_type": "markdown",
   "metadata": {},
   "source": [
    "### Model Performance Comparison"
   ]
  },
  {
   "cell_type": "markdown",
   "metadata": {},
   "source": [
    "ROC & DET Curve"
   ]
  },
  {
   "cell_type": "code",
   "execution_count": 152,
   "metadata": {},
   "outputs": [
    {
     "data": {
      "image/png": "[encoded data removed]",
      "text/plain": [
       "<Figure size 720x720 with 2 Axes>"
      ]
     },
     "metadata": {},
     "output_type": "display_data"
    }
   ],
   "source": [
    "from sklearn.metrics import DetCurveDisplay, RocCurveDisplay\n",
    "\n",
    "#N_SAMPLES = 1000\n",
    "\n",
    "classifiers = {\n",
    "    \"Logistic Regression\": LogisticRegression(),\n",
    "    \"Decision Tree\": DecisionTreeClassifier(criterion='entropy', random_state=100, max_depth=7),\n",
    "    \"Random Forest\": RandomForestClassifier(random_state=0),\n",
    "    \"KNN\": KNeighborsClassifier(n_neighbors=25, n_jobs=-1),\n",
    "}\n",
    "\n",
    "\n",
    "# prepare plots\n",
    "fig, [ax_roc, ax_det] = plt.subplots(2, 1, figsize=(10, 10))\n",
    "\n",
    "# for name, clf in classifiers.items():\n",
    "#     clf.fit(X_train, y_train)\n",
    "\n",
    "#     RocCurveDisplay.from_estimator(clf, X_test, y_test, ax=ax_roc, name=name)\n",
    "#     DetCurveDisplay.from_estimator(clf, X_test, y_test, ax=ax_det, name=name)\n",
    "\n",
    "# ax_roc.set_title(\"Receiver Operating Characteristic (ROC) curves\")\n",
    "# ax_det.set_title(\"Detection Error Tradeoff (DET) curves\")\n",
    "\n",
    "# ax_roc.grid(linestyle=\"--\")\n",
    "# ax_det.grid(linestyle=\"--\")\n",
    "\n",
    "# plt.legend()\n",
    "# plt.show()"
   ]
  },
  {
   "cell_type": "code",
   "execution_count": 153,
   "metadata": {},
   "outputs": [],
   "source": [
    "models_scores_table = pd.DataFrame({'Logistic Regression':[.8091, 0.83, 0.81, 0.80, 0.76, 0.92],\n",
    "                                    'Decision Tree':[0.8167, 0.83, 0.82, 0.81, 0.77, 0.91],\n",
    "                                    'Random Forest':[0.8167, 0.83, 0.82, 0.81, 0.77, 0.91],\n",
    "                                    'KNN':[0.8166, 0.83, 0.82, 0.81, 0.77, 0.91]},\n",
    "                                    index=['Accuracy', 'Precision', 'Recall', 'F1 Score', 'Negative Precision', 'Positive Precision'])"
   ]
  },
  {
   "cell_type": "code",
   "execution_count": 154,
   "metadata": {},
   "outputs": [
    {
     "data": {
      "text/html": [
       "<div>\n",
       "<style scoped>\n",
       "    .dataframe tbody tr th:only-of-type {\n",
       "        vertical-align: middle;\n",
       "    }\n",
       "\n",
       "    .dataframe tbody tr th {\n",
       "        vertical-align: top;\n",
       "    }\n",
       "\n",
       "    .dataframe thead th {\n",
       "        text-align: right;\n",
       "    }\n",
       "</style>\n",
       "<table border=\"1\" class=\"dataframe\">\n",
       "  <thead>\n",
       "    <tr style=\"text-align: right;\">\n",
       "      <th></th>\n",
       "      <th>Logistic Regression</th>\n",
       "      <th>Decision Tree</th>\n",
       "      <th>Random Forest</th>\n",
       "      <th>KNN</th>\n",
       "    </tr>\n",
       "  </thead>\n",
       "  <tbody>\n",
       "    <tr>\n",
       "      <th>Accuracy</th>\n",
       "      <td>0.8091</td>\n",
       "      <td>0.8167</td>\n",
       "      <td>0.8167</td>\n",
       "      <td>0.8166</td>\n",
       "    </tr>\n",
       "    <tr>\n",
       "      <th>Precision</th>\n",
       "      <td>0.8300</td>\n",
       "      <td>0.8300</td>\n",
       "      <td>0.8300</td>\n",
       "      <td>0.8300</td>\n",
       "    </tr>\n",
       "    <tr>\n",
       "      <th>Recall</th>\n",
       "      <td>0.8100</td>\n",
       "      <td>0.8200</td>\n",
       "      <td>0.8200</td>\n",
       "      <td>0.8200</td>\n",
       "    </tr>\n",
       "    <tr>\n",
       "      <th>F1 Score</th>\n",
       "      <td>0.8000</td>\n",
       "      <td>0.8100</td>\n",
       "      <td>0.8100</td>\n",
       "      <td>0.8100</td>\n",
       "    </tr>\n",
       "    <tr>\n",
       "      <th>Negative Precision</th>\n",
       "      <td>0.7600</td>\n",
       "      <td>0.7700</td>\n",
       "      <td>0.7700</td>\n",
       "      <td>0.7700</td>\n",
       "    </tr>\n",
       "    <tr>\n",
       "      <th>Positive Precision</th>\n",
       "      <td>0.9200</td>\n",
       "      <td>0.9100</td>\n",
       "      <td>0.9100</td>\n",
       "      <td>0.9100</td>\n",
       "    </tr>\n",
       "  </tbody>\n",
       "</table>\n",
       "</div>"
      ],
      "text/plain": [
       "                    Logistic Regression  Decision Tree  Random Forest     KNN\n",
       "Accuracy                         0.8091         0.8167         0.8167  0.8166\n",
       "Precision                        0.8300         0.8300         0.8300  0.8300\n",
       "Recall                           0.8100         0.8200         0.8200  0.8200\n",
       "F1 Score                         0.8000         0.8100         0.8100  0.8100\n",
       "Negative Precision               0.7600         0.7700         0.7700  0.7700\n",
       "Positive Precision               0.9200         0.9100         0.9100  0.9100"
      ]
     },
     "execution_count": 154,
     "metadata": {},
     "output_type": "execute_result"
    }
   ],
   "source": [
    "models_scores_table"
   ]
  },
  {
   "cell_type": "code",
   "execution_count": 155,
   "metadata": {},
   "outputs": [
    {
     "data": {
      "text/html": [
       "<div>\n",
       "<style scoped>\n",
       "    .dataframe tbody tr th:only-of-type {\n",
       "        vertical-align: middle;\n",
       "    }\n",
       "\n",
       "    .dataframe tbody tr th {\n",
       "        vertical-align: top;\n",
       "    }\n",
       "\n",
       "    .dataframe thead th {\n",
       "        text-align: right;\n",
       "    }\n",
       "</style>\n",
       "<table border=\"1\" class=\"dataframe\">\n",
       "  <thead>\n",
       "    <tr style=\"text-align: right;\">\n",
       "      <th></th>\n",
       "      <th>Logistic Regression</th>\n",
       "      <th>Decision Tree</th>\n",
       "      <th>Random Forest</th>\n",
       "      <th>KNN</th>\n",
       "      <th>Best Score</th>\n",
       "    </tr>\n",
       "  </thead>\n",
       "  <tbody>\n",
       "    <tr>\n",
       "      <th>Accuracy</th>\n",
       "      <td>0.8091</td>\n",
       "      <td>0.8167</td>\n",
       "      <td>0.8167</td>\n",
       "      <td>0.8166</td>\n",
       "      <td>Decision Tree</td>\n",
       "    </tr>\n",
       "    <tr>\n",
       "      <th>Precision</th>\n",
       "      <td>0.8300</td>\n",
       "      <td>0.8300</td>\n",
       "      <td>0.8300</td>\n",
       "      <td>0.8300</td>\n",
       "      <td>Logistic Regression</td>\n",
       "    </tr>\n",
       "    <tr>\n",
       "      <th>Recall</th>\n",
       "      <td>0.8100</td>\n",
       "      <td>0.8200</td>\n",
       "      <td>0.8200</td>\n",
       "      <td>0.8200</td>\n",
       "      <td>Decision Tree</td>\n",
       "    </tr>\n",
       "    <tr>\n",
       "      <th>F1 Score</th>\n",
       "      <td>0.8000</td>\n",
       "      <td>0.8100</td>\n",
       "      <td>0.8100</td>\n",
       "      <td>0.8100</td>\n",
       "      <td>Decision Tree</td>\n",
       "    </tr>\n",
       "    <tr>\n",
       "      <th>Negative Precision</th>\n",
       "      <td>0.7600</td>\n",
       "      <td>0.7700</td>\n",
       "      <td>0.7700</td>\n",
       "      <td>0.7700</td>\n",
       "      <td>Decision Tree</td>\n",
       "    </tr>\n",
       "    <tr>\n",
       "      <th>Positive Precision</th>\n",
       "      <td>0.9200</td>\n",
       "      <td>0.9100</td>\n",
       "      <td>0.9100</td>\n",
       "      <td>0.9100</td>\n",
       "      <td>Logistic Regression</td>\n",
       "    </tr>\n",
       "  </tbody>\n",
       "</table>\n",
       "</div>"
      ],
      "text/plain": [
       "                    Logistic Regression  Decision Tree  Random Forest     KNN  \\\n",
       "Accuracy                         0.8091         0.8167         0.8167  0.8166   \n",
       "Precision                        0.8300         0.8300         0.8300  0.8300   \n",
       "Recall                           0.8100         0.8200         0.8200  0.8200   \n",
       "F1 Score                         0.8000         0.8100         0.8100  0.8100   \n",
       "Negative Precision               0.7600         0.7700         0.7700  0.7700   \n",
       "Positive Precision               0.9200         0.9100         0.9100  0.9100   \n",
       "\n",
       "                             Best Score  \n",
       "Accuracy                  Decision Tree  \n",
       "Precision           Logistic Regression  \n",
       "Recall                    Decision Tree  \n",
       "F1 Score                  Decision Tree  \n",
       "Negative Precision        Decision Tree  \n",
       "Positive Precision  Logistic Regression  "
      ]
     },
     "execution_count": 155,
     "metadata": {},
     "output_type": "execute_result"
    }
   ],
   "source": [
    "best_scores = models_scores_table\n",
    "best_scores['Best Score'] = models_scores_table.idxmax(axis=1)\n",
    "best_scores"
   ]
  },
  {
   "cell_type": "code",
   "execution_count": 156,
   "metadata": {},
   "outputs": [
    {
     "data": {
      "image/png": "[encoded data removed]",
      "text/plain": [
       "<Figure size 1008x1296 with 1 Axes>"
      ]
     },
     "metadata": {},
     "output_type": "display_data"
    }
   ],
   "source": [
    "ax = models_scores_table.plot.bar(rot=0, figsize=(14,18))\n",
    "legend_prop = {'weight':'bold', 'size': 20}\n",
    "plt.legend(prop=legend_prop)\n",
    "plt.show()"
   ]
  },
  {
   "cell_type": "code",
   "execution_count": null,
   "metadata": {},
   "outputs": [],
   "source": []
  },
  {
   "cell_type": "markdown",
   "metadata": {},
   "source": [
    "# Training ANN Model"
   ]
  },
  {
   "cell_type": "markdown",
   "metadata": {},
   "source": [
    "### Creating the model"
   ]
  },
  {
   "cell_type": "code",
   "execution_count": 157,
   "metadata": {},
   "outputs": [],
   "source": [
    "#necessary library\n",
    "import tensorflow as tf\n",
    "from tensorflow.keras.models import Sequential\n",
    "from tensorflow.keras.layers import Dense, Activation,Dropout\n",
    "from tensorflow.keras.constraints import max_norm"
   ]
  },
  {
   "cell_type": "code",
   "execution_count": 158,
   "metadata": {},
   "outputs": [
    {
     "data": {
      "text/plain": [
       "(2914432, 7)"
      ]
     },
     "execution_count": 158,
     "metadata": {},
     "output_type": "execute_result"
    }
   ],
   "source": [
    "X_train.shape"
   ]
  },
  {
   "cell_type": "code",
   "execution_count": 159,
   "metadata": {},
   "outputs": [],
   "source": [
    "model = Sequential()\n",
    "\n",
    "# input layer\n",
    "model.add(Dense(60,  activation='relu'))\n",
    "#model.add(Dropout(0.2))\n",
    "\n",
    "# hidden layer\n",
    "model.add(Dense(30, activation='relu'))\n",
    "#model.add(Dropout(0.2))\n",
    "\n",
    "# hidden layer\n",
    "model.add(Dense(15, activation='relu'))\n",
    "#model.add(Dropout(0.2))\n",
    "\n",
    "# output layer\n",
    "model.add(Dense(units=1,activation='sigmoid'))\n",
    "\n",
    "# Compile model\n",
    "model.compile(loss='binary_crossentropy', optimizer='adam')"
   ]
  },
  {
   "cell_type": "code",
   "execution_count": 160,
   "metadata": {},
   "outputs": [
    {
     "name": "stdout",
     "output_type": "stream",
     "text": [
      "Epoch 1/25\n",
      "91076/91076 [==============================] - 87s 927us/step - loss: 0.4621 - val_loss: 0.4244\n",
      "Epoch 2/25\n",
      "91076/91076 [==============================] - 86s 944us/step - loss: 0.4612 - val_loss: 0.4133\n",
      "Epoch 3/25\n",
      "91076/91076 [==============================] - 86s 943us/step - loss: 0.4611 - val_loss: 0.4119\n",
      "Epoch 4/25\n",
      "91076/91076 [==============================] - 86s 943us/step - loss: 0.4610 - val_loss: 0.4257\n",
      "Epoch 5/25\n",
      "91076/91076 [==============================] - 81s 886us/step - loss: 0.4611 - val_loss: 0.4170\n",
      "Epoch 6/25\n",
      "91076/91076 [==============================] - 80s 884us/step - loss: 0.4610 - val_loss: 0.4337\n",
      "Epoch 7/25\n",
      "91076/91076 [==============================] - 81s 885us/step - loss: 0.4610 - val_loss: 0.4094\n",
      "Epoch 8/25\n",
      "91076/91076 [==============================] - 83s 916us/step - loss: 0.4610 - val_loss: 0.4347\n",
      "Epoch 9/25\n",
      "91076/91076 [==============================] - 81s 886us/step - loss: 0.4610 - val_loss: 0.4105\n",
      "Epoch 10/25\n",
      "91076/91076 [==============================] - 81s 886us/step - loss: 0.4610 - val_loss: 0.4364\n",
      "Epoch 11/25\n",
      "91076/91076 [==============================] - 80s 883us/step - loss: 0.4610 - val_loss: 0.4217\n",
      "Epoch 12/25\n",
      "91076/91076 [==============================] - 81s 886us/step - loss: 0.4610 - val_loss: 0.4262\n",
      "Epoch 13/25\n",
      "91076/91076 [==============================] - 81s 884us/step - loss: 0.4611 - val_loss: 0.4194\n",
      "Epoch 14/25\n",
      "91076/91076 [==============================] - 81s 890us/step - loss: 0.4610 - val_loss: 0.4233\n",
      "Epoch 15/25\n",
      "91076/91076 [==============================] - 80s 883us/step - loss: 0.4610 - val_loss: 0.4356\n",
      "Epoch 16/25\n",
      "91076/91076 [==============================] - 80s 880us/step - loss: 0.4610 - val_loss: 0.4254\n",
      "Epoch 17/25\n",
      "91076/91076 [==============================] - 81s 886us/step - loss: 0.4610 - val_loss: 0.4405\n",
      "Epoch 18/25\n",
      "91076/91076 [==============================] - 81s 884us/step - loss: 0.4609 - val_loss: 0.4264\n",
      "Epoch 19/25\n",
      "91076/91076 [==============================] - 82s 896us/step - loss: 0.4610 - val_loss: 0.4308\n",
      "Epoch 20/25\n",
      "91076/91076 [==============================] - 81s 887us/step - loss: 0.4610 - val_loss: 0.4251\n",
      "Epoch 21/25\n",
      "91076/91076 [==============================] - 81s 888us/step - loss: 0.4610 - val_loss: 0.4236\n",
      "Epoch 22/25\n",
      "91076/91076 [==============================] - 81s 889us/step - loss: 0.4610 - val_loss: 0.4204\n",
      "Epoch 23/25\n",
      "91076/91076 [==============================] - 84s 917us/step - loss: 0.4610 - val_loss: 0.4266\n",
      "Epoch 24/25\n",
      "91076/91076 [==============================] - 81s 886us/step - loss: 0.4610 - val_loss: 0.4259\n",
      "Epoch 25/25\n",
      "91076/91076 [==============================] - 81s 885us/step - loss: 0.4610 - val_loss: 0.4201\n"
     ]
    },
    {
     "data": {
      "text/plain": [
       "<keras.callbacks.History at 0x230af9fbe20>"
      ]
     },
     "execution_count": 160,
     "metadata": {},
     "output_type": "execute_result"
    }
   ],
   "source": [
    "#training the model\n",
    "model.fit(x=X_train, y=y_train, epochs=25, validation_data=(X_test, y_test))"
   ]
  },
  {
   "cell_type": "markdown",
   "metadata": {},
   "source": [
    "### Saving the model"
   ]
  },
  {
   "cell_type": "code",
   "execution_count": 161,
   "metadata": {},
   "outputs": [],
   "source": [
    "#necessary library\n",
    "from tensorflow.keras.models import load_model\n",
    "\n",
    "#model.save('ANN_model.h5')  "
   ]
  },
  {
   "cell_type": "markdown",
   "metadata": {},
   "source": [
    "### Evaluating the ANN Model"
   ]
  },
  {
   "cell_type": "code",
   "execution_count": 162,
   "metadata": {},
   "outputs": [
    {
     "data": {
      "text/plain": [
       "<AxesSubplot:>"
      ]
     },
     "execution_count": 162,
     "metadata": {},
     "output_type": "execute_result"
    },
    {
     "data": {
      "image/png": "[encoded data removed]",
      "text/plain": [
       "<Figure size 1152x576 with 1 Axes>"
      ]
     },
     "metadata": {},
     "output_type": "display_data"
    }
   ],
   "source": [
    "losses = pd.DataFrame(model.history.history)\n",
    "\n",
    "losses[['loss','val_loss']].plot()"
   ]
  },
  {
   "cell_type": "code",
   "execution_count": 163,
   "metadata": {},
   "outputs": [],
   "source": [
    "#predicting using ANN model\n",
    "#predictions = model.predict_classes(X_test)\n",
    "predictions = model.predict(X_test) \n",
    "predictions = np.argmax(predictions, axis=1)"
   ]
  },
  {
   "cell_type": "code",
   "execution_count": 164,
   "metadata": {},
   "outputs": [
    {
     "name": "stderr",
     "output_type": "stream",
     "text": [
      "D:\\Programs\\anaconda3\\lib\\site-packages\\sklearn\\metrics\\_classification.py:1318: UndefinedMetricWarning: Precision and F-score are ill-defined and being set to 0.0 in labels with no predicted samples. Use `zero_division` parameter to control this behavior.\n",
      "  _warn_prf(average, modifier, msg_start, len(result))\n"
     ]
    },
    {
     "name": "stdout",
     "output_type": "stream",
     "text": [
      "              precision    recall  f1-score   support\n",
      "\n",
      "           0       0.90      1.00      0.95    485956\n",
      "           1       0.00      0.00      0.00     52019\n",
      "\n",
      "    accuracy                           0.90    537975\n",
      "   macro avg       0.45      0.50      0.47    537975\n",
      "weighted avg       0.82      0.90      0.86    537975\n",
      "\n"
     ]
    },
    {
     "name": "stderr",
     "output_type": "stream",
     "text": [
      "D:\\Programs\\anaconda3\\lib\\site-packages\\sklearn\\metrics\\_classification.py:1318: UndefinedMetricWarning: Precision and F-score are ill-defined and being set to 0.0 in labels with no predicted samples. Use `zero_division` parameter to control this behavior.\n",
      "  _warn_prf(average, modifier, msg_start, len(result))\n",
      "D:\\Programs\\anaconda3\\lib\\site-packages\\sklearn\\metrics\\_classification.py:1318: UndefinedMetricWarning: Precision and F-score are ill-defined and being set to 0.0 in labels with no predicted samples. Use `zero_division` parameter to control this behavior.\n",
      "  _warn_prf(average, modifier, msg_start, len(result))\n"
     ]
    }
   ],
   "source": [
    "print(classification_report(y_test,predictions))"
   ]
  },
  {
   "cell_type": "code",
   "execution_count": 165,
   "metadata": {},
   "outputs": [
    {
     "data": {
      "image/png": "[encoded data removed]",
      "text/plain": [
       "<Figure size 432x288 with 1 Axes>"
      ]
     },
     "metadata": {},
     "output_type": "display_data"
    }
   ],
   "source": [
    "#confusion matrix\n",
    "cm = confusion_matrix(y_test, predictions)\n",
    "\n",
    "plt.figure(figsize=(6,4))\n",
    "sns.heatmap(cm, annot=True, square=True,  fmt='d',\n",
    "           cmap=plt.cm.Blues, cbar=False)\n",
    "plt.ylabel('True Labels', fontsize=12)\n",
    "plt.xlabel('Predicted Labels', fontsize=12)\n",
    "plt.show()"
   ]
  },
  {
   "cell_type": "code",
   "execution_count": 166,
   "metadata": {},
   "outputs": [
    {
     "data": {
      "text/plain": [
       "0.09669408429759747"
      ]
     },
     "execution_count": 166,
     "metadata": {},
     "output_type": "execute_result"
    }
   ],
   "source": [
    "#mean squared error\n",
    "mean_squared_error(y_test, predictions)"
   ]
  },
  {
   "cell_type": "code",
   "execution_count": 167,
   "metadata": {},
   "outputs": [
    {
     "data": {
      "text/plain": [
       "0.09669408429759747"
      ]
     },
     "execution_count": 167,
     "metadata": {},
     "output_type": "execute_result"
    }
   ],
   "source": [
    "#mean absolute error\n",
    "mean_absolute_error(y_test, predictions)"
   ]
  },
  {
   "cell_type": "code",
   "execution_count": 168,
   "metadata": {},
   "outputs": [
    {
     "data": {
      "text/plain": [
       "-0.10704467071092871"
      ]
     },
     "execution_count": 168,
     "metadata": {},
     "output_type": "execute_result"
    }
   ],
   "source": [
    "#r2 Score\n",
    "r2_score(y_test, predictions)"
   ]
  },
  {
   "cell_type": "code",
   "execution_count": null,
   "metadata": {},
   "outputs": [],
   "source": []
  },
  {
   "cell_type": "markdown",
   "metadata": {},
   "source": [
    "### SVM Model - Linear Kernel"
   ]
  },
  {
   "cell_type": "code",
   "execution_count": 169,
   "metadata": {},
   "outputs": [],
   "source": [
    "from sklearn import svm"
   ]
  },
  {
   "cell_type": "code",
   "execution_count": 170,
   "metadata": {},
   "outputs": [],
   "source": [
    "# model = svm.SVC(kernel='linear') # Linear Kernel\n",
    "# model.fit(X_train, y_train)"
   ]
  },
  {
   "cell_type": "code",
   "execution_count": 171,
   "metadata": {},
   "outputs": [],
   "source": [
    "#selecting a subset of dataset\n",
    "X_train_x = X_train.iloc[:20000]\n",
    "y_train_y = y_train.iloc[:20000]"
   ]
  },
  {
   "cell_type": "code",
   "execution_count": 172,
   "metadata": {},
   "outputs": [
    {
     "data": {
      "text/plain": [
       "SVC(kernel='linear')"
      ]
     },
     "execution_count": 172,
     "metadata": {},
     "output_type": "execute_result"
    }
   ],
   "source": [
    "model = svm.SVC(kernel='linear') # Linear Kernel\n",
    "\n",
    "model.fit(X_train_x, y_train_y)"
   ]
  },
  {
   "cell_type": "code",
   "execution_count": 173,
   "metadata": {},
   "outputs": [],
   "source": [
    "#prediction on test data\n",
    "predictions = model.predict(X_test)"
   ]
  },
  {
   "cell_type": "code",
   "execution_count": 174,
   "metadata": {},
   "outputs": [
    {
     "data": {
      "text/plain": [
       "0.9197323295692179"
      ]
     },
     "execution_count": 174,
     "metadata": {},
     "output_type": "execute_result"
    }
   ],
   "source": [
    "#model's accurary score\n",
    "model.score(X_test, y_test)"
   ]
  },
  {
   "cell_type": "code",
   "execution_count": 175,
   "metadata": {},
   "outputs": [],
   "source": [
    "#save the model\n",
    "\n",
    "filename = 'SVM_linear_model.sav'\n",
    "#pickle.dump(model, open(filename, 'wb'))"
   ]
  },
  {
   "cell_type": "markdown",
   "metadata": {},
   "source": [
    "#### Evaluating SVM linear-kernel model"
   ]
  },
  {
   "cell_type": "code",
   "execution_count": 176,
   "metadata": {},
   "outputs": [
    {
     "name": "stdout",
     "output_type": "stream",
     "text": [
      "              precision    recall  f1-score   support\n",
      "\n",
      "    Negative       0.93      0.99      0.96    485956\n",
      "    Positive       0.75      0.26      0.38     52019\n",
      "\n",
      "    accuracy                           0.92    537975\n",
      "   macro avg       0.84      0.62      0.67    537975\n",
      "weighted avg       0.91      0.92      0.90    537975\n",
      "\n"
     ]
    }
   ],
   "source": [
    "#Classification Report\n",
    "print(classification_report(y_test, predictions, target_names=['Negative', 'Positive']))"
   ]
  },
  {
   "cell_type": "code",
   "execution_count": 177,
   "metadata": {},
   "outputs": [
    {
     "data": {
      "image/png": "[encoded data removed]",
      "text/plain": [
       "<Figure size 432x288 with 1 Axes>"
      ]
     },
     "metadata": {},
     "output_type": "display_data"
    }
   ],
   "source": [
    "#confusion matrix\n",
    "cm = confusion_matrix(y_test, predictions)\n",
    "\n",
    "plt.figure(figsize=(6,4))\n",
    "sns.heatmap(cm, annot=True, square=True,  fmt='d',\n",
    "           cmap=plt.cm.Blues, cbar=False)\n",
    "plt.ylabel('True Labels', fontsize=12)\n",
    "plt.xlabel('Predicted Labels', fontsize=12)\n",
    "plt.show()"
   ]
  },
  {
   "cell_type": "code",
   "execution_count": 178,
   "metadata": {},
   "outputs": [
    {
     "data": {
      "text/plain": [
       "0.0802676704307821"
      ]
     },
     "execution_count": 178,
     "metadata": {},
     "output_type": "execute_result"
    }
   ],
   "source": [
    "#mean squared error\n",
    "mean_squared_error(y_test, predictions)"
   ]
  },
  {
   "cell_type": "code",
   "execution_count": 179,
   "metadata": {},
   "outputs": [
    {
     "data": {
      "text/plain": [
       "0.0802676704307821"
      ]
     },
     "execution_count": 179,
     "metadata": {},
     "output_type": "execute_result"
    }
   ],
   "source": [
    "#mean absolute error\n",
    "mean_absolute_error(y_test, predictions)"
   ]
  },
  {
   "cell_type": "code",
   "execution_count": 180,
   "metadata": {},
   "outputs": [
    {
     "data": {
      "text/plain": [
       "0.08102033928681218"
      ]
     },
     "execution_count": 180,
     "metadata": {},
     "output_type": "execute_result"
    }
   ],
   "source": [
    "#r2 Score\n",
    "r2_score(y_test, predictions)"
   ]
  },
  {
   "cell_type": "markdown",
   "metadata": {},
   "source": [
    "### SVM Model - RBF Kernel"
   ]
  },
  {
   "cell_type": "code",
   "execution_count": 181,
   "metadata": {},
   "outputs": [
    {
     "data": {
      "text/plain": [
       "SVC()"
      ]
     },
     "execution_count": 181,
     "metadata": {},
     "output_type": "execute_result"
    }
   ],
   "source": [
    "model = svm.SVC(kernel='rbf')\n",
    "\n",
    "model.fit(X_train_x, y_train_y)"
   ]
  },
  {
   "cell_type": "code",
   "execution_count": 182,
   "metadata": {},
   "outputs": [],
   "source": [
    "#prediction on test data\n",
    "predictions = model.predict(X_test)"
   ]
  },
  {
   "cell_type": "code",
   "execution_count": 183,
   "metadata": {},
   "outputs": [
    {
     "data": {
      "text/plain": [
       "0.9291435475626191"
      ]
     },
     "execution_count": 183,
     "metadata": {},
     "output_type": "execute_result"
    }
   ],
   "source": [
    "#model's accurary score\n",
    "model.score(X_test, y_test)"
   ]
  },
  {
   "cell_type": "code",
   "execution_count": 184,
   "metadata": {},
   "outputs": [],
   "source": [
    "#save the model\n",
    "filename = 'SVM_rbf_model.sav'\n",
    "pickle.dump(model, open(filename, 'wb'))"
   ]
  },
  {
   "cell_type": "markdown",
   "metadata": {},
   "source": [
    "#### Evaluating SVM rbf-kernel model"
   ]
  },
  {
   "cell_type": "code",
   "execution_count": 185,
   "metadata": {},
   "outputs": [
    {
     "name": "stdout",
     "output_type": "stream",
     "text": [
      "              precision    recall  f1-score   support\n",
      "\n",
      "    Negative       0.95      0.97      0.96    485956\n",
      "    Positive       0.65      0.57      0.61     52019\n",
      "\n",
      "    accuracy                           0.93    537975\n",
      "   macro avg       0.80      0.77      0.79    537975\n",
      "weighted avg       0.93      0.93      0.93    537975\n",
      "\n"
     ]
    }
   ],
   "source": [
    "#Classification Report\n",
    "print(classification_report(y_test, predictions, target_names=['Negative', 'Positive']))"
   ]
  },
  {
   "cell_type": "code",
   "execution_count": 186,
   "metadata": {},
   "outputs": [
    {
     "data": {
      "image/png": "[encoded data removed]",
      "text/plain": [
       "<Figure size 432x288 with 1 Axes>"
      ]
     },
     "metadata": {},
     "output_type": "display_data"
    }
   ],
   "source": [
    "#confusion matrix\n",
    "cm = confusion_matrix(y_test, predictions)\n",
    "\n",
    "plt.figure(figsize=(6,4))\n",
    "sns.heatmap(cm, annot=True, square=True,  fmt='d',\n",
    "           cmap=plt.cm.Blues, cbar=False)\n",
    "plt.ylabel('True Labels', fontsize=12)\n",
    "plt.xlabel('Predicted Labels', fontsize=12)\n",
    "plt.show()"
   ]
  },
  {
   "cell_type": "code",
   "execution_count": 187,
   "metadata": {},
   "outputs": [
    {
     "data": {
      "text/plain": [
       "0.07085645243738092"
      ]
     },
     "execution_count": 187,
     "metadata": {},
     "output_type": "execute_result"
    }
   ],
   "source": [
    "#mean squared error\n",
    "mean_squared_error(y_test, predictions)"
   ]
  },
  {
   "cell_type": "code",
   "execution_count": 188,
   "metadata": {},
   "outputs": [
    {
     "data": {
      "text/plain": [
       "0.07085645243738092"
      ]
     },
     "execution_count": 188,
     "metadata": {},
     "output_type": "execute_result"
    }
   ],
   "source": [
    "#mean absolute error\n",
    "mean_absolute_error(y_test, predictions)"
   ]
  },
  {
   "cell_type": "code",
   "execution_count": 189,
   "metadata": {},
   "outputs": [
    {
     "data": {
      "text/plain": [
       "0.18876879980718797"
      ]
     },
     "execution_count": 189,
     "metadata": {},
     "output_type": "execute_result"
    }
   ],
   "source": [
    "#r2 Score\n",
    "r2_score(y_test, predictions)"
   ]
  },
  {
   "cell_type": "markdown",
   "metadata": {},
   "source": [
    "#### SVM Model polynomial-kernel "
   ]
  },
  {
   "cell_type": "code",
   "execution_count": 190,
   "metadata": {},
   "outputs": [
    {
     "name": "stdout",
     "output_type": "stream",
     "text": [
      "Degree=  1 :  0.9197323295692179\n",
      "Degree=  2 :  0.9213476462660904\n",
      "Degree=  3 :  0.9245262326316278\n",
      "Degree=  4 :  0.926063478786189\n",
      "Degree=  5 :  0.9257883730656629\n"
     ]
    }
   ],
   "source": [
    "#finding optimum degree for svm polynomial kernel\n",
    "degree = []\n",
    "for i in range(1, 6):\n",
    "    svm_model = svm.SVC(kernel='poly', degree=i)\n",
    "    svm_model.fit(X_train_x, y_train_y)\n",
    "    y_predict = svm_model.predict(X_test)\n",
    "    degree.append(accuracy_score(y_test, y_predict))\n",
    "    print('Degree= ', i, \": \", accuracy_score(y_test, y_predict))"
   ]
  },
  {
   "cell_type": "code",
   "execution_count": 191,
   "metadata": {},
   "outputs": [
    {
     "name": "stderr",
     "output_type": "stream",
     "text": [
      "No artists with labels found to put in legend.  Note that artists whose label start with an underscore are ignored when legend() is called with no argument.\n"
     ]
    },
    {
     "data": {
      "image/png": "[encoded data removed]",
      "text/plain": [
       "<Figure size 864x576 with 1 Axes>"
      ]
     },
     "metadata": {},
     "output_type": "display_data"
    }
   ],
   "source": [
    "#ploting the accuracies for different degree\n",
    "plt.figure(figsize=(12, 8))\n",
    "plt.plot(range(1, 6), degree, marker='o')\n",
    "plt.xlabel('Degree', fontsize=20)\n",
    "plt.ylabel('Accuracy', fontsize=20)\n",
    "plt.xticks(range(1, 6))\n",
    "legend_prop = {'weight':'bold'}\n",
    "plt.legend(prop=legend_prop)\n",
    "plt.show()"
   ]
  },
  {
   "cell_type": "code",
   "execution_count": 192,
   "metadata": {},
   "outputs": [
    {
     "data": {
      "text/plain": [
       "SVC(degree=4, kernel='poly')"
      ]
     },
     "execution_count": 192,
     "metadata": {},
     "output_type": "execute_result"
    }
   ],
   "source": [
    "#training model with degree=4\n",
    "model = svm.SVC(kernel='poly', degree=4)\n",
    "\n",
    "model.fit(X_train_x, y_train_y)"
   ]
  },
  {
   "cell_type": "code",
   "execution_count": 193,
   "metadata": {},
   "outputs": [],
   "source": [
    "#prediction on test data\n",
    "predictions = model.predict(X_test)"
   ]
  },
  {
   "cell_type": "code",
   "execution_count": 194,
   "metadata": {},
   "outputs": [
    {
     "data": {
      "text/plain": [
       "0.926063478786189"
      ]
     },
     "execution_count": 194,
     "metadata": {},
     "output_type": "execute_result"
    }
   ],
   "source": [
    "#model's accurary score\n",
    "model.score(X_test, y_test)"
   ]
  },
  {
   "cell_type": "code",
   "execution_count": 195,
   "metadata": {},
   "outputs": [],
   "source": [
    "#save the model\n",
    "filename = 'SVM_polynomial_model.sav'\n",
    "pickle.dump(model, open(filename, 'wb'))"
   ]
  },
  {
   "cell_type": "markdown",
   "metadata": {},
   "source": [
    "#### Evaluating SVM polynomial-kernel model"
   ]
  },
  {
   "cell_type": "code",
   "execution_count": 196,
   "metadata": {},
   "outputs": [
    {
     "name": "stdout",
     "output_type": "stream",
     "text": [
      "              precision    recall  f1-score   support\n",
      "\n",
      "    Negative       0.95      0.97      0.96    485956\n",
      "    Positive       0.67      0.47      0.55     52019\n",
      "\n",
      "    accuracy                           0.93    537975\n",
      "   macro avg       0.81      0.72      0.76    537975\n",
      "weighted avg       0.92      0.93      0.92    537975\n",
      "\n"
     ]
    }
   ],
   "source": [
    "#Classification Report\n",
    "print(classification_report(y_test, predictions, target_names=['Negative', 'Positive']))"
   ]
  },
  {
   "cell_type": "code",
   "execution_count": 197,
   "metadata": {},
   "outputs": [
    {
     "data": {
      "image/png": "[encoded data removed]",
      "text/plain": [
       "<Figure size 432x288 with 1 Axes>"
      ]
     },
     "metadata": {},
     "output_type": "display_data"
    }
   ],
   "source": [
    "#confusion matrix\n",
    "cm = confusion_matrix(y_test, predictions)\n",
    "\n",
    "plt.figure(figsize=(6,4))\n",
    "sns.heatmap(cm, annot=True, square=True,  fmt='d',\n",
    "           cmap=plt.cm.Blues, cbar=False)\n",
    "plt.ylabel('True Labels', fontsize=12)\n",
    "plt.xlabel('Predicted Labels', fontsize=12)\n",
    "plt.show()"
   ]
  },
  {
   "cell_type": "code",
   "execution_count": 198,
   "metadata": {},
   "outputs": [
    {
     "data": {
      "text/plain": [
       "0.07393652121381106"
      ]
     },
     "execution_count": 198,
     "metadata": {},
     "output_type": "execute_result"
    }
   ],
   "source": [
    "#mean squared error\n",
    "mean_squared_error(y_test, predictions)"
   ]
  },
  {
   "cell_type": "code",
   "execution_count": 199,
   "metadata": {},
   "outputs": [
    {
     "data": {
      "text/plain": [
       "0.07393652121381106"
      ]
     },
     "execution_count": 199,
     "metadata": {},
     "output_type": "execute_result"
    }
   ],
   "source": [
    "#mean absolute error\n",
    "mean_absolute_error(y_test, predictions)"
   ]
  },
  {
   "cell_type": "code",
   "execution_count": 200,
   "metadata": {},
   "outputs": [
    {
     "data": {
      "text/plain": [
       "0.15350528033607147"
      ]
     },
     "execution_count": 200,
     "metadata": {},
     "output_type": "execute_result"
    }
   ],
   "source": [
    "#r2 Score\n",
    "r2_score(y_test, predictions)"
   ]
  },
  {
   "cell_type": "markdown",
   "metadata": {},
   "source": [
    "### Tuning the hyper-parameters"
   ]
  },
  {
   "cell_type": "code",
   "execution_count": 201,
   "metadata": {},
   "outputs": [],
   "source": [
    "from sklearn.model_selection import GridSearchCV"
   ]
  },
  {
   "cell_type": "code",
   "execution_count": 202,
   "metadata": {},
   "outputs": [],
   "source": [
    "param_grid = {'C': [0.1,1, 10, 100], 'gamma': [1,0.1,0.01,0.001],'kernel': ['rbf', 'poly', 'linear']}"
   ]
  },
  {
   "cell_type": "code",
   "execution_count": 203,
   "metadata": {},
   "outputs": [
    {
     "name": "stdout",
     "output_type": "stream",
     "text": [
      "Fitting 5 folds for each of 48 candidates, totalling 240 fits\n",
      "[CV] END .........................C=0.1, gamma=1, kernel=rbf; total time=   2.8s\n",
      "[CV] END .........................C=0.1, gamma=1, kernel=rbf; total time=   2.7s\n",
      "[CV] END .........................C=0.1, gamma=1, kernel=rbf; total time=   2.7s\n",
      "[CV] END .........................C=0.1, gamma=1, kernel=rbf; total time=   2.8s\n",
      "[CV] END .........................C=0.1, gamma=1, kernel=rbf; total time=   2.7s\n",
      "[CV] END ........................C=0.1, gamma=1, kernel=poly; total time=   1.7s\n",
      "[CV] END ........................C=0.1, gamma=1, kernel=poly; total time=   2.2s\n",
      "[CV] END ........................C=0.1, gamma=1, kernel=poly; total time=   2.1s\n",
      "[CV] END ........................C=0.1, gamma=1, kernel=poly; total time=   2.2s\n",
      "[CV] END ........................C=0.1, gamma=1, kernel=poly; total time=   2.1s\n",
      "[CV] END ......................C=0.1, gamma=1, kernel=linear; total time=   1.6s\n",
      "[CV] END ......................C=0.1, gamma=1, kernel=linear; total time=   1.4s\n",
      "[CV] END ......................C=0.1, gamma=1, kernel=linear; total time=   1.4s\n",
      "[CV] END ......................C=0.1, gamma=1, kernel=linear; total time=   1.4s\n",
      "[CV] END ......................C=0.1, gamma=1, kernel=linear; total time=   1.4s\n",
      "[CV] END .......................C=0.1, gamma=0.1, kernel=rbf; total time=   3.2s\n",
      "[CV] END .......................C=0.1, gamma=0.1, kernel=rbf; total time=   3.1s\n",
      "[CV] END .......................C=0.1, gamma=0.1, kernel=rbf; total time=   3.1s\n",
      "[CV] END .......................C=0.1, gamma=0.1, kernel=rbf; total time=   3.1s\n",
      "[CV] END .......................C=0.1, gamma=0.1, kernel=rbf; total time=   3.3s\n",
      "[CV] END ......................C=0.1, gamma=0.1, kernel=poly; total time=   1.9s\n",
      "[CV] END ......................C=0.1, gamma=0.1, kernel=poly; total time=   1.8s\n",
      "[CV] END ......................C=0.1, gamma=0.1, kernel=poly; total time=   1.8s\n",
      "[CV] END ......................C=0.1, gamma=0.1, kernel=poly; total time=   1.8s\n",
      "[CV] END ......................C=0.1, gamma=0.1, kernel=poly; total time=   1.8s\n",
      "[CV] END ....................C=0.1, gamma=0.1, kernel=linear; total time=   1.5s\n",
      "[CV] END ....................C=0.1, gamma=0.1, kernel=linear; total time=   1.4s\n",
      "[CV] END ....................C=0.1, gamma=0.1, kernel=linear; total time=   1.4s\n",
      "[CV] END ....................C=0.1, gamma=0.1, kernel=linear; total time=   1.4s\n",
      "[CV] END ....................C=0.1, gamma=0.1, kernel=linear; total time=   1.5s\n",
      "[CV] END ......................C=0.1, gamma=0.01, kernel=rbf; total time=   3.5s\n",
      "[CV] END ......................C=0.1, gamma=0.01, kernel=rbf; total time=   3.5s\n",
      "[CV] END ......................C=0.1, gamma=0.01, kernel=rbf; total time=   3.3s\n",
      "[CV] END ......................C=0.1, gamma=0.01, kernel=rbf; total time=   3.3s\n",
      "[CV] END ......................C=0.1, gamma=0.01, kernel=rbf; total time=   3.3s\n",
      "[CV] END .....................C=0.1, gamma=0.01, kernel=poly; total time=   1.8s\n",
      "[CV] END .....................C=0.1, gamma=0.01, kernel=poly; total time=   1.7s\n",
      "[CV] END .....................C=0.1, gamma=0.01, kernel=poly; total time=   1.7s\n",
      "[CV] END .....................C=0.1, gamma=0.01, kernel=poly; total time=   1.7s\n",
      "[CV] END .....................C=0.1, gamma=0.01, kernel=poly; total time=   1.7s\n",
      "[CV] END ...................C=0.1, gamma=0.01, kernel=linear; total time=   1.4s\n",
      "[CV] END ...................C=0.1, gamma=0.01, kernel=linear; total time=   1.4s\n",
      "[CV] END ...................C=0.1, gamma=0.01, kernel=linear; total time=   1.4s\n",
      "[CV] END ...................C=0.1, gamma=0.01, kernel=linear; total time=   1.4s\n",
      "[CV] END ...................C=0.1, gamma=0.01, kernel=linear; total time=   1.4s\n",
      "[CV] END .....................C=0.1, gamma=0.001, kernel=rbf; total time=   3.3s\n",
      "[CV] END .....................C=0.1, gamma=0.001, kernel=rbf; total time=   3.3s\n",
      "[CV] END .....................C=0.1, gamma=0.001, kernel=rbf; total time=   3.3s\n",
      "[CV] END .....................C=0.1, gamma=0.001, kernel=rbf; total time=   3.3s\n",
      "[CV] END .....................C=0.1, gamma=0.001, kernel=rbf; total time=   3.3s\n",
      "[CV] END ....................C=0.1, gamma=0.001, kernel=poly; total time=   1.7s\n",
      "[CV] END ....................C=0.1, gamma=0.001, kernel=poly; total time=   1.7s\n",
      "[CV] END ....................C=0.1, gamma=0.001, kernel=poly; total time=   1.7s\n",
      "[CV] END ....................C=0.1, gamma=0.001, kernel=poly; total time=   1.7s\n",
      "[CV] END ....................C=0.1, gamma=0.001, kernel=poly; total time=   1.7s\n",
      "[CV] END ..................C=0.1, gamma=0.001, kernel=linear; total time=   1.4s\n",
      "[CV] END ..................C=0.1, gamma=0.001, kernel=linear; total time=   1.3s\n",
      "[CV] END ..................C=0.1, gamma=0.001, kernel=linear; total time=   1.4s\n",
      "[CV] END ..................C=0.1, gamma=0.001, kernel=linear; total time=   1.4s\n",
      "[CV] END ..................C=0.1, gamma=0.001, kernel=linear; total time=   1.4s\n",
      "[CV] END ...........................C=1, gamma=1, kernel=rbf; total time=   2.5s\n",
      "[CV] END ...........................C=1, gamma=1, kernel=rbf; total time=   2.5s\n",
      "[CV] END ...........................C=1, gamma=1, kernel=rbf; total time=   2.5s\n",
      "[CV] END ...........................C=1, gamma=1, kernel=rbf; total time=   2.5s\n",
      "[CV] END ...........................C=1, gamma=1, kernel=rbf; total time=   2.5s\n",
      "[CV] END ..........................C=1, gamma=1, kernel=poly; total time=   5.2s\n",
      "[CV] END ..........................C=1, gamma=1, kernel=poly; total time=   5.8s\n",
      "[CV] END ..........................C=1, gamma=1, kernel=poly; total time=   5.6s\n",
      "[CV] END ..........................C=1, gamma=1, kernel=poly; total time=   2.8s\n",
      "[CV] END ..........................C=1, gamma=1, kernel=poly; total time=   4.8s\n",
      "[CV] END ........................C=1, gamma=1, kernel=linear; total time=   1.4s\n",
      "[CV] END ........................C=1, gamma=1, kernel=linear; total time=   1.4s\n",
      "[CV] END ........................C=1, gamma=1, kernel=linear; total time=   1.3s\n",
      "[CV] END ........................C=1, gamma=1, kernel=linear; total time=   1.3s\n",
      "[CV] END ........................C=1, gamma=1, kernel=linear; total time=   1.3s\n",
      "[CV] END .........................C=1, gamma=0.1, kernel=rbf; total time=   2.8s\n",
      "[CV] END .........................C=1, gamma=0.1, kernel=rbf; total time=   2.8s\n",
      "[CV] END .........................C=1, gamma=0.1, kernel=rbf; total time=   2.8s\n",
      "[CV] END .........................C=1, gamma=0.1, kernel=rbf; total time=   2.8s\n",
      "[CV] END .........................C=1, gamma=0.1, kernel=rbf; total time=   2.8s\n",
      "[CV] END ........................C=1, gamma=0.1, kernel=poly; total time=   1.7s\n",
      "[CV] END ........................C=1, gamma=0.1, kernel=poly; total time=   1.7s\n",
      "[CV] END ........................C=1, gamma=0.1, kernel=poly; total time=   1.7s\n",
      "[CV] END ........................C=1, gamma=0.1, kernel=poly; total time=   1.9s\n",
      "[CV] END ........................C=1, gamma=0.1, kernel=poly; total time=   1.7s\n",
      "[CV] END ......................C=1, gamma=0.1, kernel=linear; total time=   1.5s\n",
      "[CV] END ......................C=1, gamma=0.1, kernel=linear; total time=   1.5s\n",
      "[CV] END ......................C=1, gamma=0.1, kernel=linear; total time=   1.6s\n",
      "[CV] END ......................C=1, gamma=0.1, kernel=linear; total time=   1.4s\n",
      "[CV] END ......................C=1, gamma=0.1, kernel=linear; total time=   1.3s\n",
      "[CV] END ........................C=1, gamma=0.01, kernel=rbf; total time=   3.1s\n",
      "[CV] END ........................C=1, gamma=0.01, kernel=rbf; total time=   3.1s\n",
      "[CV] END ........................C=1, gamma=0.01, kernel=rbf; total time=   3.2s\n",
      "[CV] END ........................C=1, gamma=0.01, kernel=rbf; total time=   3.2s\n",
      "[CV] END ........................C=1, gamma=0.01, kernel=rbf; total time=   3.1s\n",
      "[CV] END .......................C=1, gamma=0.01, kernel=poly; total time=   1.7s\n",
      "[CV] END .......................C=1, gamma=0.01, kernel=poly; total time=   1.7s\n",
      "[CV] END .......................C=1, gamma=0.01, kernel=poly; total time=   1.7s\n",
      "[CV] END .......................C=1, gamma=0.01, kernel=poly; total time=   1.7s\n",
      "[CV] END .......................C=1, gamma=0.01, kernel=poly; total time=   1.7s\n",
      "[CV] END .....................C=1, gamma=0.01, kernel=linear; total time=   1.3s\n",
      "[CV] END .....................C=1, gamma=0.01, kernel=linear; total time=   1.3s\n",
      "[CV] END .....................C=1, gamma=0.01, kernel=linear; total time=   1.3s\n",
      "[CV] END .....................C=1, gamma=0.01, kernel=linear; total time=   1.3s\n",
      "[CV] END .....................C=1, gamma=0.01, kernel=linear; total time=   1.3s\n",
      "[CV] END .......................C=1, gamma=0.001, kernel=rbf; total time=   3.3s\n",
      "[CV] END .......................C=1, gamma=0.001, kernel=rbf; total time=   3.3s\n",
      "[CV] END .......................C=1, gamma=0.001, kernel=rbf; total time=   3.3s\n",
      "[CV] END .......................C=1, gamma=0.001, kernel=rbf; total time=   3.3s\n",
      "[CV] END .......................C=1, gamma=0.001, kernel=rbf; total time=   3.3s\n",
      "[CV] END ......................C=1, gamma=0.001, kernel=poly; total time=   1.7s\n",
      "[CV] END ......................C=1, gamma=0.001, kernel=poly; total time=   1.7s\n",
      "[CV] END ......................C=1, gamma=0.001, kernel=poly; total time=   1.7s\n",
      "[CV] END ......................C=1, gamma=0.001, kernel=poly; total time=   1.7s\n",
      "[CV] END ......................C=1, gamma=0.001, kernel=poly; total time=   1.7s\n",
      "[CV] END ....................C=1, gamma=0.001, kernel=linear; total time=   1.3s\n",
      "[CV] END ....................C=1, gamma=0.001, kernel=linear; total time=   1.3s\n",
      "[CV] END ....................C=1, gamma=0.001, kernel=linear; total time=   1.3s\n",
      "[CV] END ....................C=1, gamma=0.001, kernel=linear; total time=   1.3s\n",
      "[CV] END ....................C=1, gamma=0.001, kernel=linear; total time=   1.3s\n",
      "[CV] END ..........................C=10, gamma=1, kernel=rbf; total time=   2.7s\n",
      "[CV] END ..........................C=10, gamma=1, kernel=rbf; total time=   2.6s\n",
      "[CV] END ..........................C=10, gamma=1, kernel=rbf; total time=   2.5s\n",
      "[CV] END ..........................C=10, gamma=1, kernel=rbf; total time=   2.6s\n",
      "[CV] END ..........................C=10, gamma=1, kernel=rbf; total time=   2.5s\n",
      "[CV] END .........................C=10, gamma=1, kernel=poly; total time=  29.0s\n",
      "[CV] END .........................C=10, gamma=1, kernel=poly; total time=  17.8s\n",
      "[CV] END .........................C=10, gamma=1, kernel=poly; total time= 1.2min\n",
      "[CV] END .........................C=10, gamma=1, kernel=poly; total time=  17.9s\n",
      "[CV] END .........................C=10, gamma=1, kernel=poly; total time=  27.3s\n",
      "[CV] END .......................C=10, gamma=1, kernel=linear; total time=   1.5s\n",
      "[CV] END .......................C=10, gamma=1, kernel=linear; total time=   1.6s\n",
      "[CV] END .......................C=10, gamma=1, kernel=linear; total time=   1.5s\n",
      "[CV] END .......................C=10, gamma=1, kernel=linear; total time=   1.5s\n",
      "[CV] END .......................C=10, gamma=1, kernel=linear; total time=   1.5s\n",
      "[CV] END ........................C=10, gamma=0.1, kernel=rbf; total time=   3.0s\n",
      "[CV] END ........................C=10, gamma=0.1, kernel=rbf; total time=   3.0s\n",
      "[CV] END ........................C=10, gamma=0.1, kernel=rbf; total time=   2.9s\n",
      "[CV] END ........................C=10, gamma=0.1, kernel=rbf; total time=   3.0s\n",
      "[CV] END ........................C=10, gamma=0.1, kernel=rbf; total time=   3.1s\n",
      "[CV] END .......................C=10, gamma=0.1, kernel=poly; total time=   1.6s\n",
      "[CV] END .......................C=10, gamma=0.1, kernel=poly; total time=   1.6s\n",
      "[CV] END .......................C=10, gamma=0.1, kernel=poly; total time=   1.6s\n",
      "[CV] END .......................C=10, gamma=0.1, kernel=poly; total time=   1.6s\n",
      "[CV] END .......................C=10, gamma=0.1, kernel=poly; total time=   1.5s\n",
      "[CV] END .....................C=10, gamma=0.1, kernel=linear; total time=   1.5s\n",
      "[CV] END .....................C=10, gamma=0.1, kernel=linear; total time=   1.5s\n",
      "[CV] END .....................C=10, gamma=0.1, kernel=linear; total time=   1.5s\n",
      "[CV] END .....................C=10, gamma=0.1, kernel=linear; total time=   1.5s\n",
      "[CV] END .....................C=10, gamma=0.1, kernel=linear; total time=   1.5s\n",
      "[CV] END .......................C=10, gamma=0.01, kernel=rbf; total time=   3.0s\n",
      "[CV] END .......................C=10, gamma=0.01, kernel=rbf; total time=   3.0s\n",
      "[CV] END .......................C=10, gamma=0.01, kernel=rbf; total time=   3.0s\n",
      "[CV] END .......................C=10, gamma=0.01, kernel=rbf; total time=   3.0s\n",
      "[CV] END .......................C=10, gamma=0.01, kernel=rbf; total time=   2.9s\n",
      "[CV] END ......................C=10, gamma=0.01, kernel=poly; total time=   1.7s\n",
      "[CV] END ......................C=10, gamma=0.01, kernel=poly; total time=   1.6s\n",
      "[CV] END ......................C=10, gamma=0.01, kernel=poly; total time=   1.7s\n",
      "[CV] END ......................C=10, gamma=0.01, kernel=poly; total time=   1.8s\n",
      "[CV] END ......................C=10, gamma=0.01, kernel=poly; total time=   1.7s\n",
      "[CV] END ....................C=10, gamma=0.01, kernel=linear; total time=   1.6s\n",
      "[CV] END ....................C=10, gamma=0.01, kernel=linear; total time=   1.5s\n",
      "[CV] END ....................C=10, gamma=0.01, kernel=linear; total time=   1.5s\n",
      "[CV] END ....................C=10, gamma=0.01, kernel=linear; total time=   1.5s\n",
      "[CV] END ....................C=10, gamma=0.01, kernel=linear; total time=   1.5s\n",
      "[CV] END ......................C=10, gamma=0.001, kernel=rbf; total time=   3.1s\n",
      "[CV] END ......................C=10, gamma=0.001, kernel=rbf; total time=   3.1s\n",
      "[CV] END ......................C=10, gamma=0.001, kernel=rbf; total time=   3.1s\n",
      "[CV] END ......................C=10, gamma=0.001, kernel=rbf; total time=   3.1s\n",
      "[CV] END ......................C=10, gamma=0.001, kernel=rbf; total time=   3.0s\n",
      "[CV] END .....................C=10, gamma=0.001, kernel=poly; total time=   1.7s\n",
      "[CV] END .....................C=10, gamma=0.001, kernel=poly; total time=   1.7s\n",
      "[CV] END .....................C=10, gamma=0.001, kernel=poly; total time=   1.7s\n",
      "[CV] END .....................C=10, gamma=0.001, kernel=poly; total time=   1.7s\n",
      "[CV] END .....................C=10, gamma=0.001, kernel=poly; total time=   1.6s\n",
      "[CV] END ...................C=10, gamma=0.001, kernel=linear; total time=   1.5s\n",
      "[CV] END ...................C=10, gamma=0.001, kernel=linear; total time=   1.5s\n",
      "[CV] END ...................C=10, gamma=0.001, kernel=linear; total time=   1.5s\n",
      "[CV] END ...................C=10, gamma=0.001, kernel=linear; total time=   1.5s\n",
      "[CV] END ...................C=10, gamma=0.001, kernel=linear; total time=   1.5s\n",
      "[CV] END .........................C=100, gamma=1, kernel=rbf; total time=   2.7s\n",
      "[CV] END .........................C=100, gamma=1, kernel=rbf; total time=   2.6s\n",
      "[CV] END .........................C=100, gamma=1, kernel=rbf; total time=   2.5s\n",
      "[CV] END .........................C=100, gamma=1, kernel=rbf; total time=   2.5s\n",
      "[CV] END .........................C=100, gamma=1, kernel=rbf; total time=   2.5s\n",
      "[CV] END ........................C=100, gamma=1, kernel=poly; total time= 2.6min\n",
      "[CV] END ........................C=100, gamma=1, kernel=poly; total time= 6.4min\n",
      "[CV] END ........................C=100, gamma=1, kernel=poly; total time= 3.2min\n",
      "[CV] END ........................C=100, gamma=1, kernel=poly; total time= 2.6min\n",
      "[CV] END ........................C=100, gamma=1, kernel=poly; total time= 2.0min\n",
      "[CV] END ......................C=100, gamma=1, kernel=linear; total time=   2.9s\n",
      "[CV] END ......................C=100, gamma=1, kernel=linear; total time=   2.9s\n",
      "[CV] END ......................C=100, gamma=1, kernel=linear; total time=   3.2s\n",
      "[CV] END ......................C=100, gamma=1, kernel=linear; total time=   3.0s\n",
      "[CV] END ......................C=100, gamma=1, kernel=linear; total time=   2.9s\n",
      "[CV] END .......................C=100, gamma=0.1, kernel=rbf; total time=   5.2s\n",
      "[CV] END .......................C=100, gamma=0.1, kernel=rbf; total time=   4.3s\n",
      "[CV] END .......................C=100, gamma=0.1, kernel=rbf; total time=   4.2s\n",
      "[CV] END .......................C=100, gamma=0.1, kernel=rbf; total time=   4.2s\n",
      "[CV] END .......................C=100, gamma=0.1, kernel=rbf; total time=   5.3s\n",
      "[CV] END ......................C=100, gamma=0.1, kernel=poly; total time=   1.7s\n",
      "[CV] END ......................C=100, gamma=0.1, kernel=poly; total time=   2.4s\n",
      "[CV] END ......................C=100, gamma=0.1, kernel=poly; total time=   1.9s\n",
      "[CV] END ......................C=100, gamma=0.1, kernel=poly; total time=   1.8s\n",
      "[CV] END ......................C=100, gamma=0.1, kernel=poly; total time=   1.9s\n",
      "[CV] END ....................C=100, gamma=0.1, kernel=linear; total time=   2.9s\n",
      "[CV] END ....................C=100, gamma=0.1, kernel=linear; total time=   2.8s\n",
      "[CV] END ....................C=100, gamma=0.1, kernel=linear; total time=   3.1s\n",
      "[CV] END ....................C=100, gamma=0.1, kernel=linear; total time=   3.0s\n",
      "[CV] END ....................C=100, gamma=0.1, kernel=linear; total time=   3.0s\n",
      "[CV] END ......................C=100, gamma=0.01, kernel=rbf; total time=   3.6s\n",
      "[CV] END ......................C=100, gamma=0.01, kernel=rbf; total time=   3.4s\n",
      "[CV] END ......................C=100, gamma=0.01, kernel=rbf; total time=   3.5s\n",
      "[CV] END ......................C=100, gamma=0.01, kernel=rbf; total time=   3.4s\n",
      "[CV] END ......................C=100, gamma=0.01, kernel=rbf; total time=   3.2s\n",
      "[CV] END .....................C=100, gamma=0.01, kernel=poly; total time=   1.8s\n",
      "[CV] END .....................C=100, gamma=0.01, kernel=poly; total time=   1.8s\n",
      "[CV] END .....................C=100, gamma=0.01, kernel=poly; total time=   1.9s\n",
      "[CV] END .....................C=100, gamma=0.01, kernel=poly; total time=   1.8s\n",
      "[CV] END .....................C=100, gamma=0.01, kernel=poly; total time=   1.8s\n",
      "[CV] END ...................C=100, gamma=0.01, kernel=linear; total time=   2.9s\n",
      "[CV] END ...................C=100, gamma=0.01, kernel=linear; total time=   2.9s\n",
      "[CV] END ...................C=100, gamma=0.01, kernel=linear; total time=   3.1s\n",
      "[CV] END ...................C=100, gamma=0.01, kernel=linear; total time=   3.0s\n",
      "[CV] END ...................C=100, gamma=0.01, kernel=linear; total time=   3.0s\n",
      "[CV] END .....................C=100, gamma=0.001, kernel=rbf; total time=   3.4s\n",
      "[CV] END .....................C=100, gamma=0.001, kernel=rbf; total time=   3.4s\n",
      "[CV] END .....................C=100, gamma=0.001, kernel=rbf; total time=   3.3s\n",
      "[CV] END .....................C=100, gamma=0.001, kernel=rbf; total time=   3.3s\n",
      "[CV] END .....................C=100, gamma=0.001, kernel=rbf; total time=   3.3s\n",
      "[CV] END ....................C=100, gamma=0.001, kernel=poly; total time=   1.9s\n",
      "[CV] END ....................C=100, gamma=0.001, kernel=poly; total time=   1.8s\n",
      "[CV] END ....................C=100, gamma=0.001, kernel=poly; total time=   1.9s\n",
      "[CV] END ....................C=100, gamma=0.001, kernel=poly; total time=   1.8s\n",
      "[CV] END ....................C=100, gamma=0.001, kernel=poly; total time=   1.8s\n",
      "[CV] END ..................C=100, gamma=0.001, kernel=linear; total time=   2.9s\n",
      "[CV] END ..................C=100, gamma=0.001, kernel=linear; total time=   3.0s\n",
      "[CV] END ..................C=100, gamma=0.001, kernel=linear; total time=   3.2s\n",
      "[CV] END ..................C=100, gamma=0.001, kernel=linear; total time=   3.0s\n",
      "[CV] END ..................C=100, gamma=0.001, kernel=linear; total time=   2.9s\n"
     ]
    },
    {
     "data": {
      "text/plain": [
       "GridSearchCV(estimator=SVC(),\n",
       "             param_grid={'C': [0.1, 1, 10, 100], 'gamma': [1, 0.1, 0.01, 0.001],\n",
       "                         'kernel': ['rbf', 'poly', 'linear']},\n",
       "             verbose=2)"
      ]
     },
     "execution_count": 203,
     "metadata": {},
     "output_type": "execute_result"
    }
   ],
   "source": [
    "grid = GridSearchCV(svm.SVC(),param_grid,refit=True,verbose=2)\n",
    "grid.fit(X_train_x,y_train_y)"
   ]
  },
  {
   "cell_type": "code",
   "execution_count": 204,
   "metadata": {},
   "outputs": [
    {
     "data": {
      "text/plain": [
       "{'C': 0.1, 'gamma': 1, 'kernel': 'rbf'}"
      ]
     },
     "execution_count": 204,
     "metadata": {},
     "output_type": "execute_result"
    }
   ],
   "source": [
    "grid.best_params_"
   ]
  },
  {
   "cell_type": "code",
   "execution_count": 205,
   "metadata": {},
   "outputs": [
    {
     "name": "stdout",
     "output_type": "stream",
     "text": [
      "[[469443  16513]\n",
      " [ 21325  30694]]\n",
      "              precision    recall  f1-score   support\n",
      "\n",
      "           0       0.96      0.97      0.96    485956\n",
      "           1       0.65      0.59      0.62     52019\n",
      "\n",
      "    accuracy                           0.93    537975\n",
      "   macro avg       0.80      0.78      0.79    537975\n",
      "weighted avg       0.93      0.93      0.93    537975\n",
      "\n"
     ]
    }
   ],
   "source": [
    "grid_predictions = grid.predict(X_test)\n",
    "print(confusion_matrix(y_test,grid_predictions))\n",
    "print(classification_report(y_test,grid_predictions))"
   ]
  },
  {
   "cell_type": "markdown",
   "metadata": {},
   "source": [
    "#### Linear Regression Model"
   ]
  },
  {
   "cell_type": "code",
   "execution_count": 206,
   "metadata": {},
   "outputs": [],
   "source": [
    "from sklearn.linear_model import LinearRegression"
   ]
  },
  {
   "cell_type": "code",
   "execution_count": 207,
   "metadata": {},
   "outputs": [
    {
     "data": {
      "text/plain": [
       "LinearRegression()"
      ]
     },
     "execution_count": 207,
     "metadata": {},
     "output_type": "execute_result"
    }
   ],
   "source": [
    "model = LinearRegression()\n",
    "model.fit(X_train, y_train)"
   ]
  },
  {
   "cell_type": "code",
   "execution_count": 208,
   "metadata": {},
   "outputs": [],
   "source": [
    "#predictions = model.predict(X_test)\n",
    "predictions = np.round(np.clip(model.predict(X_test), 0, 1)).astype(int)"
   ]
  },
  {
   "cell_type": "code",
   "execution_count": 209,
   "metadata": {},
   "outputs": [
    {
     "data": {
      "text/plain": [
       "array([0, 0, 0, ..., 0, 0, 1])"
      ]
     },
     "execution_count": 209,
     "metadata": {},
     "output_type": "execute_result"
    }
   ],
   "source": [
    "predictions"
   ]
  },
  {
   "cell_type": "code",
   "execution_count": 210,
   "metadata": {},
   "outputs": [
    {
     "data": {
      "text/plain": [
       "-0.668198313274728"
      ]
     },
     "execution_count": 210,
     "metadata": {},
     "output_type": "execute_result"
    }
   ],
   "source": [
    "model.score(X_test, y_test)"
   ]
  },
  {
   "cell_type": "markdown",
   "metadata": {},
   "source": [
    "## Ensemble Learning"
   ]
  },
  {
   "cell_type": "markdown",
   "metadata": {},
   "source": [
    "### Voting Classifier"
   ]
  },
  {
   "cell_type": "code",
   "execution_count": 211,
   "metadata": {},
   "outputs": [],
   "source": [
    "from sklearn.model_selection import cross_val_score\n",
    "from sklearn.ensemble import VotingClassifier"
   ]
  },
  {
   "cell_type": "code",
   "execution_count": 212,
   "metadata": {},
   "outputs": [],
   "source": [
    "clf1 = LogisticRegression(random_state=1)\n",
    "clf2 = DecisionTreeClassifier(criterion='entropy', random_state=100, max_depth=7)\n",
    "clf3 = RandomForestClassifier(random_state=0) "
   ]
  },
  {
   "cell_type": "code",
   "execution_count": 213,
   "metadata": {},
   "outputs": [],
   "source": [
    "eclf = VotingClassifier(estimators=[('lr', clf1), ('dt', clf2), ('rf', clf3)], voting='hard')"
   ]
  },
  {
   "cell_type": "code",
   "execution_count": 214,
   "metadata": {},
   "outputs": [
    {
     "name": "stdout",
     "output_type": "stream",
     "text": [
      "Accuracy: 0.80 (+/- 0.00) [Logistic Regression]\n",
      "Accuracy: 0.80 (+/- 0.00) [Decision Tree]\n",
      "Accuracy: 0.80 (+/- 0.00) [Random Forest]\n",
      "Accuracy: 0.80 (+/- 0.00) [Ensemble]\n"
     ]
    }
   ],
   "source": [
    "for clf, label in zip([clf1, clf2, clf3, eclf], ['Logistic Regression', 'Decision Tree', 'Random Forest', 'Ensemble']):\n",
    "    scores = cross_val_score(clf, X_train, y_train, scoring='accuracy', cv=5)\n",
    "    print(\"Accuracy: %0.2f (+/- %0.2f) [%s]\" % (scores.mean(), scores.std(), label))"
   ]
  },
  {
   "cell_type": "code",
   "execution_count": 215,
   "metadata": {},
   "outputs": [
    {
     "name": "stdout",
     "output_type": "stream",
     "text": [
      "              precision    recall  f1-score   support\n",
      "\n",
      "           0       0.96      0.95      0.96    485956\n",
      "           1       0.59      0.65      0.62     52019\n",
      "\n",
      "    accuracy                           0.92    537975\n",
      "   macro avg       0.77      0.80      0.79    537975\n",
      "weighted avg       0.93      0.92      0.92    537975\n",
      "\n"
     ]
    }
   ],
   "source": [
    "eclf.fit(X_train, y_train)\n",
    "eclf_predictions = eclf.predict(X_test)\n",
    "print(classification_report(y_test,eclf_predictions))"
   ]
  },
  {
   "cell_type": "code",
   "execution_count": 216,
   "metadata": {},
   "outputs": [
    {
     "data": {
      "image/png": "[encoded data removed]",
      "text/plain": [
       "<Figure size 432x288 with 1 Axes>"
      ]
     },
     "metadata": {},
     "output_type": "display_data"
    }
   ],
   "source": [
    "#confusion matrix\n",
    "cm = confusion_matrix(y_test, eclf_predictions)\n",
    "\n",
    "plt.figure(figsize=(6,4))\n",
    "sns.heatmap(cm, annot=True, square=True,  fmt='d',\n",
    "           cmap=plt.cm.Blues, cbar=False)\n",
    "plt.ylabel('True Labels', fontsize=12)\n",
    "plt.xlabel('Predicted Labels', fontsize=12)\n",
    "plt.show()"
   ]
  },
  {
   "cell_type": "code",
   "execution_count": null,
   "metadata": {},
   "outputs": [],
   "source": []
  }
 ],
 "metadata": {
  "interpreter": {
   "hash": "cc7436e339fb98a79d349a4b39e7546d0317772cabf469fe9b68837ca1e48e7d"
  },
  "kernelspec": {
   "display_name": "Python 3.8.5 64-bit ('base': conda)",
   "language": "python",
   "name": "python3"
  },
  "language_info": {
   "codemirror_mode": {
    "name": "ipython",
    "version": 3
   },
   "file_extension": ".py",
   "mimetype": "text/x-python",
   "name": "python",
   "nbconvert_exporter": "python",
   "pygments_lexer": "ipython3",
   "version": "3.9.7"
  },
  "orig_nbformat": 4
 },
 "nbformat": 4,
 "nbformat_minor": 2
}
